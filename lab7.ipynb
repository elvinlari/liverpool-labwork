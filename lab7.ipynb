{
 "cells": [
  {
   "cell_type": "markdown",
   "metadata": {},
   "source": [
    "## Lab Session: Week 7 - Functions\n",
    "## Python Built-In Functions\n",
    "\n",
    "A function is a set of statements that take inputs, do some specific tasks and produce output. They allow us to break down a program into re-usable, simple components. Functions enable programmers to reuse a piece of code multiple times in the future. Python has several functions that are readily available for use. These functions are called built-in functions. The programmers can define their own functions to perform certain tasks. These functions are called user-defined functions. Different combinations of built-in and user-defined functions create code to solve complex tasks, in a way it ensures that the codes are readable and easily maintainable.\n",
    "\n",
    "You've already come across many functions, one of the most common ones being the `print()` function. The objects that you pass into a function are called arguments. Generally, you should pass whatever variables that the function uses into the function as arguments.\n",
    "\n",
    "There are various kinds of arguments, which can add to the flexibility of a function. If we look at the definition of the print function, then we can see some different types of arguments. The definition is as follows:\n",
    "\n",
    "`print(*objects, sep=' ', end='\\n', file=sys.stdout, flush=False)`\n",
    "\n",
    "The first argument, objects, means the print function accepts any number of objects as arguments (using means it can take any number of arguments, which is why when you use the print function you can pass in as many objects separated by commas as you wish). The Print() function put objects to the text stream file (converted arguments to strings like `str()` does), separated by sep and followed by end.\n",
    "\n",
    "The following are arguments with default values, if these are not provided a default is used. Let's modify one of these now."
   ]
  },
  {
   "cell_type": "code",
   "execution_count": 1,
   "metadata": {},
   "outputs": [
    {
     "name": "stdout",
     "output_type": "stream",
     "text": [
      "3 5 7\n",
      "3 and 5 and 7\n",
      "3 5 7 everything has been printed!"
     ]
    }
   ],
   "source": [
    "a = 3\n",
    "b = 5\n",
    "c = 7\n",
    "\n",
    "print(a,b,c)\n",
    "# Modify the separator argument\n",
    "print(a,b,c, sep = ' and ')\n",
    "# Modify the end argument\n",
    "print(a,b,c, end = ' everything has been printed!')"
   ]
  },
  {
   "cell_type": "code",
   "execution_count": 2,
   "metadata": {},
   "outputs": [
    {
     "name": "stdout",
     "output_type": "stream",
     "text": [
      "3 5\n"
     ]
    },
    {
     "data": {
      "text/plain": [
       "4.0"
      ]
     },
     "execution_count": 2,
     "metadata": {},
     "output_type": "execute_result"
    }
   ],
   "source": [
    "#function to find midpoint between two numbers\n",
    "#this function has two arguments: a and b\n",
    "def midpoint(a,b):\n",
    "    print(a,b)\n",
    "    return (a+b)/2\n",
    "\n",
    "c = 3\n",
    "d = 5\n",
    "\n",
    "#call function \n",
    "midpoint(c,d) "
   ]
  },
  {
   "cell_type": "code",
   "execution_count": 3,
   "metadata": {},
   "outputs": [
    {
     "name": "stdout",
     "output_type": "stream",
     "text": [
      "3 5\n",
      "4.0\n",
      "3 5\n",
      "4.0\n",
      "3 5\n",
      "4.0\n",
      "5 3\n",
      "4.0\n"
     ]
    }
   ],
   "source": [
    "#function to find midpoint between two numbers\n",
    "def midpoint(a,b):\n",
    "    print(a,b)\n",
    "    return (a+b)/2\n",
    "\n",
    "c = 3\n",
    "d = 5\n",
    "\n",
    "#call function \n",
    "print(midpoint(c,d))\n",
    "print(midpoint(a=c, b=d))\n",
    "print(midpoint(b=d, a=c))\n",
    "print(midpoint(d,c))"
   ]
  },
  {
   "cell_type": "code",
   "execution_count": 1,
   "metadata": {},
   "outputs": [
    {
     "name": "stdout",
     "output_type": "stream",
     "text": [
      "0.06666666666666667\n",
      "Script ran successfully!\n"
     ]
    }
   ],
   "source": [
    "try:\n",
    "    # x = float(input(\"Please provide a number: \"))\n",
    "    x = 15\n",
    "    inverse = 1/x\n",
    "    print(inverse)\n",
    "except ValueError:\n",
    "    print(\"Incorrect type\")\n",
    "except ZeroDivisionError:\n",
    "    print(\"Can't divide by 0\")\n",
    "finally:\n",
    "    # This code is run no matter what\n",
    "    print(\"Script ran successfully!\")"
   ]
  },
  {
   "cell_type": "code",
   "execution_count": 2,
   "metadata": {},
   "outputs": [
    {
     "name": "stdout",
     "output_type": "stream",
     "text": [
      "It's a number!\n",
      "It's a number!\n",
      "It's a string!\n",
      "I'm not sure what it is...\n"
     ]
    }
   ],
   "source": [
    "def check_var(var):\n",
    "    if isinstance(var, (int,float)):\n",
    "        print(\"It's a number!\")\n",
    "    elif isinstance(var, str):\n",
    "        print(\"It's a string!\")\n",
    "    else:\n",
    "        print(\"I'm not sure what it is...\")\n",
    "\n",
    "#input data in the function        \n",
    "a = 4\n",
    "b = 5.3\n",
    "c = \"a string\"\n",
    "d = None        \n",
    "\n",
    "#call function\n",
    "check_var(a)\n",
    "check_var(b)\n",
    "check_var(c)\n",
    "check_var(d)"
   ]
  },
  {
   "cell_type": "markdown",
   "metadata": {},
   "source": [
    "### Exercise 1: Portfolio Diversification\n",
    "\n",
    "Consider an investor who has identified 5 distinct assets and wants to determine the number of unique ways to allocate these assets into a portfolio. The total number of possible arrangements (permutations) of these 5 assets is given by the factorial of 5, denoted as 5!.\n",
    "\n",
    "    Computed the factorial of a number using a recursive approach\n",
    "    Call this function iterative_factorial(n) and use loop to calculate factorial. Then, extend the function to print out a suitable error message if n is not an integer.\n",
    "\n",
    "The factorial of a non-negative integer n\n",
    ", denoted by n!, is the product of all positive integers less than or equal to n\n",
    "\n",
    ":\n",
    "\n",
    "n!=n×(n−1)×(n−2)×(n−3)...3×2×1"
   ]
  },
  {
   "cell_type": "code",
   "execution_count": 3,
   "metadata": {},
   "outputs": [
    {
     "name": "stdout",
     "output_type": "stream",
     "text": [
      "120\n",
      "Input must be an integer. Received type: <class 'float'>\n",
      "Input must be an integer. Received type: <class 'str'>\n",
      "Factorial is not defined for negative integers.\n"
     ]
    }
   ],
   "source": [
    "def iterative_factorial(n):\n",
    "    \"\"\"\n",
    "    Calculate the factorial of a non-negative integer using an iterative approach.\n",
    "\n",
    "    Parameters:\n",
    "    n (int): A non-negative integer whose factorial is to be computed.\n",
    "\n",
    "    Returns:\n",
    "    int: The factorial of the input integer n.\n",
    "    \"\"\"\n",
    "    if not isinstance(n, int):\n",
    "        raise TypeError(f\"Input must be an integer. Received type: {type(n)}\")\n",
    "    if n < 0:\n",
    "        raise ValueError(\"Factorial is not defined for negative integers.\")\n",
    "    \n",
    "    result = 1\n",
    "    for i in range(2, n + 1):\n",
    "        result *= i\n",
    "    return result\n",
    "\n",
    "# Call Function:\n",
    "try:\n",
    "    print(iterative_factorial(5))  # Expected output: 120\n",
    "except Exception as e:\n",
    "    print(e)\n",
    "\n",
    "try:\n",
    "    print(iterative_factorial(5.0))  # Expected to raise TypeError\n",
    "except Exception as e:\n",
    "    print(e)\n",
    "\n",
    "try:\n",
    "    print(iterative_factorial(\"5\"))  # Expected to raise TypeError\n",
    "except Exception as e:\n",
    "    print(e)\n",
    "\n",
    "try:\n",
    "    print(iterative_factorial(-5))  # Expected to raise ValueError\n",
    "except Exception as e:\n",
    "    print(e)"
   ]
  },
  {
   "cell_type": "markdown",
   "metadata": {},
   "source": [
    "\n",
    "### Exercise 2: Calculate the Total Value of Investments Made in Odd Years\n",
    "\n",
    "Investors often evaluate the performance of their investment strategies over time. In this exercise, you'll write a recursive function to calculate the total value of investments made in odd years. Assume an investor makes a fixed annual investment into their portfolio, and the returns for each year are given in decimal form.\n",
    "\n",
    "You have a list of annual returns (in decimal form) representing the performance of a portfolio over six years:\n",
    "\n",
    "    Year 1 Return: 1.03 (represents a 3% gain)\n",
    "    Year 2 Return: 0.98 (represents a 2% loss)\n",
    "    Year 3 Return: 1.07 (represents a 7% gain)\n",
    "    Year 4 Return: 1.02 (represents a 2% gain)\n",
    "    Year 5 Return: 1.05 (represents a 5% gain)\n",
    "    Year 6 Return: 0.99 (represents a 1% loss)\n",
    "\n",
    "Calculate the total value of the investments made in odd years (Year 1, Year 3, and Year 5) using a recursive function. Assume the investor invests a fixed amount of $1,000 each year.\n"
   ]
  },
  {
   "cell_type": "code",
   "execution_count": 4,
   "metadata": {},
   "outputs": [
    {
     "name": "stdout",
     "output_type": "stream",
     "text": [
      "Total compounded value of investments made in odd years: 3319.1849968199995\n"
     ]
    }
   ],
   "source": [
    "def compounded_return_odd_years(returns, investment, index=0):\n",
    "    \"\"\"\n",
    "    Explanation of the above code: \n",
    "    \n",
    "    (1) \"compounded_value\": Updated by multiplying it with the return multiplier for each subsequent year. \n",
    "    \n",
    "    (2) \"compounded_return_odd_years(returns, investment, index + 2)\" \n",
    "    This part is a recursive call to the same function but with index + 2.\n",
    "    index + 2 skips to the next odd year in the list of returns\n",
    "    \"\"\"\n",
    "    \n",
    "    if index >= len(returns):  # Base case: checks if the current index exceeds the length of the returns list\n",
    "        return 0\n",
    "        \n",
    "    # Calculate the compounded value of the current investment over the remaining years\n",
    "    compounded_value = investment\n",
    "    for i in range(index, len(returns)): #Generates a sequence of indices starting from index (year of investment) to the end of the returns list.\n",
    "        compounded_value = compounded_value * returns[i] \n",
    "        \n",
    "    # Recursively calculate the compounded value for the next odd year\n",
    "    return compounded_value + compounded_return_odd_years(returns, investment, index + 2)\n",
    "\n",
    "# Example data\n",
    "returns = [1.03, 0.98, 1.07, 1.02, 1.05, 0.99]  # Annual returns\n",
    "investment = 1000  # Fixed annual investment amount\n",
    "\n",
    "# Calculate and display the total compounded value of investments in odd years\n",
    "total_value = compounded_return_odd_years(returns, investment)\n",
    "print(\"Total compounded value of investments made in odd years:\", total_value)"
   ]
  },
  {
   "cell_type": "markdown",
   "metadata": {},
   "source": [
    "### Exercise 3: Write a Function to calculating the Future Value of an Ordinary Annuity\n",
    "\n",
    "Was covered in week 2 without function Measure the worth of future value (FV) of regular payments at some point in the future, given a specified interest rate.\n",
    "\n",
    "Use following formula to calculate this amount.\n",
    "FV=C×(1+i)n−1i\n",
    "\n",
    "where,\n",
    "\n",
    "    FV is the future value of an ordinary annuity\n",
    "    C is the cash flow per period\n",
    "    i is the interest rate\n",
    "    n is the number of payments\n",
    "\n",
    "Test the function for following data:\n",
    "\n",
    "    a person x1 has invested $2,000 every year for the next 7 years, at 5% interest. Calculate how much he would have at the end of the 7 year period.\n",
    "    a person x2 has invested $3,500 every year for the next 6 years, at 5.5% interest. Calculate how much he would have at the end of the 6 year period.\n",
    "    a person x3 has invested $5,500 every year for the next 8 years, at 6.5% interest. Calculate how much he would have at the end of the 8 year period.\n"
   ]
  },
  {
   "cell_type": "code",
   "execution_count": 5,
   "metadata": {},
   "outputs": [
    {
     "name": "stdout",
     "output_type": "stream",
     "text": [
      "METHOD 1:\n",
      "Worth of future value at the end of 7 years is £ 16284.017\n",
      "Worth of future value at the end of 6 years is £ 24108.179\n",
      "Worth of future value at the end of 8 years is £ 55422.711\n",
      "METHOD 2:\n",
      "Worth of future value at the end of 5 years is £ 16284.017\n",
      "Worth of future value at the end of 5.5 years is £ 24108.179\n",
      "Worth of future value at the end of 6.5 years is £ 55422.711\n"
     ]
    },
    {
     "data": {
      "text/plain": [
       "[16284.016906250017, 24108.17861212028, 55422.710647649634]"
      ]
     },
     "execution_count": 5,
     "metadata": {},
     "output_type": "execute_result"
    }
   ],
   "source": [
    "########## Method 1 #############\n",
    "print(\"METHOD 1:\")\n",
    "#Function: Future Value of an Ordinary Annuity\n",
    "def Ordinary_Annuity(c,i,n):\n",
    "    import math #import math library\n",
    "    i = i/100\n",
    "    FV = c*((math.pow(1+i, n)-1)/i)\n",
    "    return FV\n",
    "    \n",
    "#data\n",
    "c_x1,i_x1,n_x1 = 2000, 5, 7 \n",
    "c_x2,i_x2,n_x2 = 3500, 5.5, 6\n",
    "c_x3,i_x3,n_x3 = 5500, 6.5, 8\n",
    "\n",
    "#call function\n",
    "FV1 = Ordinary_Annuity(c_x1,i_x1,n_x1)\n",
    "print(\"Worth of future value at the end of\", n_x1 ,\"years is £\",round(FV1, 3)) \n",
    "\n",
    "FV2 = Ordinary_Annuity(c_x2,i_x2,n_x2)\n",
    "print(\"Worth of future value at the end of\", n_x2 ,\"years is £\",round(FV2, 3)) \n",
    "\n",
    "FV3 = Ordinary_Annuity(c_x3,i_x3,n_x3)\n",
    "print(\"Worth of future value at the end of\", n_x3 ,\"years is £\",round(FV3, 3)) \n",
    "\n",
    "\n",
    "######## Method 2: Following code organized by functions is a good and professional coding practice #############\n",
    "######## - Use functions to abstract away complexity\n",
    "######## - Keep code clean\n",
    "\n",
    "print(\"METHOD 2:\")\n",
    "#Function: Future Value of an Ordinary Annuity\n",
    "def Ordinary_Annuity(c,i,n):\n",
    "    import math #import math library\n",
    "    i = i/100\n",
    "    FV = c*((math.pow(1+i, n)-1)/i)\n",
    "    return FV\n",
    "\n",
    "#Function to calculate Ordinary Annuity for data stored inside a list \n",
    "def data_Ordinary_Annuity(input_data):\n",
    "    annuity_list = []\n",
    "    for i in range(len(input_data)):\n",
    "        annuity_list.append(Ordinary_Annuity(*input_data[i]))\n",
    "    return annuity_list\n",
    "\n",
    "#Function to display/print results \n",
    "def display_result(input_data):\n",
    "    result = data_Ordinary_Annuity(input_data)\n",
    "    for i in range(len(result)):\n",
    "        print(\"Worth of future value at the end of\", input_data[i][1] ,\"years is £\",round(result[i], 3))\n",
    "    return result\n",
    "\n",
    "#Input data\n",
    "data = [[2000, 5, 7],\n",
    "       [3500, 5.5, 6],\n",
    "       [5500, 6.5, 8]]\n",
    "display_result(data)"
   ]
  },
  {
   "cell_type": "markdown",
   "metadata": {},
   "source": [
    "\n",
    "### Exercise 4 (a): Find error in data stored in a nested-dictionary\n",
    "\n",
    "Many datasets are transformed into a dictionary and stored in the servers.\n",
    "\n",
    "Following are nested dictionaries xyzcompany_dict1 and xyzcompany_dict2. Both are two-dimensional dictionaries. Suppose that an XYZ company's dataset should have uniform inner keys in the dictionary for each fiscal_quarter. If the inner keys are not the same for all outer keys for each fiscal_quarter, there is an error in the dataset.\n",
    "\n",
    "Write a function to check if the inner keys of a nested dictionary are the same for all outer keys. Test the function for both xyzcompany_dict1 and xyzcompany_dict2 dictionary.\n",
    "\n",
    "Hint: use for loop to checks all keys sequentially by conditional if-else statements.\n",
    "\n",
    "Useful information:\n",
    "use sys module to exit from the code if a error occurs.\n",
    "import sys sys.exit(\"This is my error message\")\n",
    "\n",
    "Read The sys Module https://python101.pythonlibrary.org/chapter20_sys.html\n"
   ]
  },
  {
   "cell_type": "code",
   "execution_count": 6,
   "metadata": {},
   "outputs": [
    {
     "name": "stdout",
     "output_type": "stream",
     "text": [
      "Help on function data_check in module __main__:\n",
      "\n",
      "data_check(nested_dict)\n",
      "    This function checks consistency of inner keys in a 2D nested dictionary\n",
      "    - Step 1. Find number of outer keys\n",
      "    - Step 2.\n",
      "      2.1 Iterate over each inner keys by For loop\n",
      "      2.2 Make a For loop which has range equivalent to number of outer keys (step 1)\n",
      "    - Step 3.\n",
      "      3.1 Inside For loop write conditional statement to find whether all inner keys are same.\n",
      "      3.2 Get first inner keys and compare it will other inner keys.\n",
      "      3.3 We assume that first inner keys is the expected inner key. If expected inner key does not match with other inner keys then exit the code.\n",
      "      3.4 Exit the code by sys.exit\n",
      "\n",
      "None\n",
      "START: checking xyzcompany_dict1\n",
      " Check data in dictionary: xyzcompany_dict1 \n",
      " outer keys of the dictionary:  ['fiscal_quarter1', 'fiscal_quarter2', 'fiscal_quarter3'] \n",
      " inner keys of the dictionary:  ['Month', 'Income', 'Saving']\n",
      "START: checking xyzcompany_dict2\n"
     ]
    },
    {
     "ename": "SystemExit",
     "evalue": "All inner keys must be same. Please check your input data.",
     "output_type": "error",
     "traceback": [
      "An exception has occurred, use %tb to see the full traceback.\n",
      "\u001b[0;31mSystemExit\u001b[0m\u001b[0;31m:\u001b[0m All inner keys must be same. Please check your input data.\n"
     ]
    },
    {
     "name": "stderr",
     "output_type": "stream",
     "text": [
      "/home/elvin/DEVELOPMENT/liverpool/newlabwork/venv/lib/python3.12/site-packages/IPython/core/interactiveshell.py:3585: UserWarning: To exit: use 'exit', 'quit', or Ctrl-D.\n",
      "  warn(\"To exit: use 'exit', 'quit', or Ctrl-D.\", stacklevel=1)\n"
     ]
    }
   ],
   "source": [
    "xyzcompany_dict1 = {'fiscal_quarter1': {\"Month\":[\"Jan\",\"Feb\",\"Mar\"],\n",
    "                                   \"Income\": [9900,9346,9000],\n",
    "                                   \"Saving\": (7231.67, 3675,2347)}, \n",
    "             \n",
    "             'fiscal_quarter2': {\"Month\":[\"Apr\",\"May\",\"Jun\"],\n",
    "                                 \"Income\": [13400,9789,8690],\n",
    "                                 \"Saving\": (9679.32, 786.56,4359)},\n",
    "             \n",
    "             'fiscal_quarter3': {\"Month\":[\"Jul\",\"Aug\",\"Sep\"],\n",
    "                                 \"Income\": [13202.878,8792.89,8110.87],\n",
    "                                 \"Saving\": (9679.32, 786.56,4359)}}\n",
    "\n",
    "xyzcompany_dict2 = {'fiscal_quarter1': {\"Month\":[\"Jan\",\"Feb\",\"Mar\"],\n",
    "                                   \"Income\": [9900,9346,9000],\n",
    "                                   \"Saving\": (7231.67, 3675,2347)}, \n",
    "             \n",
    "             'fiscal_quarter2': {\"Month\":[\"Apr\",\"May\",\"Jun\"],\n",
    "                                 \"Income\": [13400,9789,8690],\n",
    "                                 \"Saving\": (9679.32, 786.56,4359)},\n",
    "             \n",
    "             'fiscal_quarter3': {\"Month\":[\"Jul\",\"Aug\",\"Sep\"],\n",
    "                                 \"Income\": [13202.878,8792.89,8110.87],\n",
    "                                 \"Saving_q3\": (9679.32, 786.56,4359)}}\n",
    "\n",
    "\n",
    "\"\"\"\n",
    "key_0 is outer keys: 'fiscal_quarter1', 'fiscal_quarter2', 'fiscal_quarter3' \n",
    "key_1 is inner keys: 'Month', 'Income', 'Saving'\n",
    "\n",
    "- Get outer keys of the dictionary in a list\n",
    "- Get inner keys of the dictionary in a list and check if all inner keys are same for all outer keys. \n",
    "\"\"\"\n",
    "\n",
    "import sys\n",
    "def data_check(nested_dict):\n",
    "    \"\"\"This function checks consistency of inner keys in a 2D nested dictionary \n",
    "       - Step 1. Find number of outer keys\n",
    "       - Step 2. \n",
    "         2.1 Iterate over each inner keys by For loop\n",
    "         2.2 Make a For loop which has range equivalent to number of outer keys (step 1)\n",
    "       - Step 3. \n",
    "         3.1 Inside For loop write conditional statement to find whether all inner keys are same.\n",
    "         3.2 Get first inner keys and compare it will other inner keys.\n",
    "         3.3 We assume that first inner keys is the expected inner key. If expected inner key does not match with other inner keys then exit the code.\n",
    "         3.4 Exit the code by sys.exit          \n",
    "    \"\"\"\n",
    "    \n",
    "    keys_0 = list(nested_dict.keys()) #Get outer keys\n",
    "\n",
    "    for i in range(len(keys_0)):  \n",
    "        if i == 0:\n",
    "            keys_1 = list(nested_dict[keys_0[0]].keys())\n",
    "\n",
    "        #check all inner keys are same as first inner key. If they are not same then exist the code and print error message. \n",
    "        elif i >= 1 and set(nested_dict[keys_0[0]].keys()) !=  set(nested_dict[keys_0[i]].keys()):\n",
    "            sys.exit('All inner keys must be same. Please check your input data.')\n",
    "        else:\n",
    "            pass\n",
    "        \n",
    "    return keys_0,keys_1  \n",
    "\n",
    "#Find help for this function\n",
    "#help (): Print information about function written by the programmer inside docstring \"\"\"   \"\"\"\n",
    "print(help(data_check))\n",
    "\n",
    "#check1[0] is keys_0,check1[1] is keys_1\n",
    "print(\"START: checking xyzcompany_dict1\")\n",
    "check1 = data_check(xyzcompany_dict1)\n",
    "print(\" Check data in dictionary: xyzcompany_dict1 \\n\",\"outer keys of the dictionary: \",check1[0],\"\\n inner keys of the dictionary: \",check1[1])\n",
    "\n",
    "print(\"START: checking xyzcompany_dict2\")\n",
    "#check2[0] is keys_0,check2[1] is keys_1 \n",
    "check2 = data_check(xyzcompany_dict2)\n",
    "print(\" Check data in dictionary: xyzcompany_dict2 \\n\",\"outer keys of the dictionary: \",check2[0],\"inner keys of the dictionary: \",check2[1])"
   ]
  },
  {
   "cell_type": "markdown",
   "metadata": {},
   "source": [
    "\n",
    "### Exercise 4 (b): Total income and saving\n",
    "\n",
    "Find total income and saving in each fiscal_quarter for data in dictionary xyzcompany_dict1. Use dictionary xyzcompany_dict1 given in Exercise 5(a) to find total income and saving in each fiscal_quarter.\n",
    "\n",
    "Hint: access nested dictionary.\n",
    "\n",
    "This excercise might be useful for your assignment.\n"
   ]
  },
  {
   "cell_type": "code",
   "execution_count": 7,
   "metadata": {},
   "outputs": [
    {
     "name": "stdout",
     "output_type": "stream",
     "text": [
      "total income: [28246, 31879, 30106.638] \n",
      "total saving: [13253.67, 14824.88, 14824.88]\n"
     ]
    }
   ],
   "source": [
    "xyzcompany_dict1 = {'fiscal_quarter1': {\"Month\":[\"Jan\",\"Feb\",\"Mar\"],\n",
    "                                   \"Income\": [9900,9346,9000],\n",
    "                                   \"Saving\": (7231.67, 3675,2347)}, \n",
    "             \n",
    "             'fiscal_quarter2': {\"Month\":[\"Apr\",\"May\",\"Jun\"],\n",
    "                                 \"Income\": [13400,9789,8690],\n",
    "                                 \"Saving\": (9679.32, 786.56,4359)},\n",
    "             \n",
    "             'fiscal_quarter3': {\"Month\":[\"Jul\",\"Aug\",\"Sep\"],\n",
    "                                 \"Income\": [13202.878,8792.89,8110.87],\n",
    "                                 \"Saving\": (9679.32, 786.56,4359)}}\n",
    "\n",
    "\n",
    "import sys\n",
    "def data_check(nested_dict):\n",
    "    \"\"\"\n",
    "    - Function checks consistency of inner keys in a 2D nested dictionary\n",
    "    - Calculate total income and saving in each fiscal quarter\n",
    "    \"\"\"\n",
    "    keys_0 = list(nested_dict.keys()) #Get outer keys\n",
    "\n",
    "    for i in range(len(keys_0)):   \n",
    "        if i == 0:\n",
    "            keys_1 = list(nested_dict[keys_0[0]].keys())\n",
    "\n",
    "        #check all inner keys are same as first inner key. If they are not same then exist the code and print error message. \n",
    "        elif i >= 1 and set(nested_dict[keys_0[0]].keys()) !=  set(nested_dict[keys_0[i]].keys()): \n",
    "            sys.exit('All inner keys must be same. Please check your input data.')\n",
    "        else:\n",
    "            pass\n",
    "    \n",
    "    #calculate total income and saving after checking consistency of inners keys\n",
    "    total_income = [] #empty list of total income in each fiscal quarter \n",
    "    total_saving = [] #empty list of total saving in each fiscal quarter\n",
    "    for k0 in keys_0:\n",
    "        for k1 in keys_1:\n",
    "            if k1 == \"Income\":\n",
    "                total_income.append(sum(list(nested_dict[k0][k1])))\n",
    "            elif k1 == \"Saving\":\n",
    "                total_saving.append(sum(list(nested_dict[k0][k1])))\n",
    "            else:\n",
    "                pass\n",
    "    return total_income,total_saving \n",
    "\n",
    "result = data_check(xyzcompany_dict1)\n",
    "\n",
    "print(\"total income:\",result[0],\"\\ntotal saving:\",result[1])\n",
    "\n",
    "#These results could be printed creatively by string formatting."
   ]
  }
 ],
 "metadata": {
  "kernelspec": {
   "display_name": "venv",
   "language": "python",
   "name": "python3"
  },
  "language_info": {
   "codemirror_mode": {
    "name": "ipython",
    "version": 3
   },
   "file_extension": ".py",
   "mimetype": "text/x-python",
   "name": "python",
   "nbconvert_exporter": "python",
   "pygments_lexer": "ipython3",
   "version": "3.12.3"
  }
 },
 "nbformat": 4,
 "nbformat_minor": 2
}
