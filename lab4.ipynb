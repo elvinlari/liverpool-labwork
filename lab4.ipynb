{
 "cells": [
  {
   "cell_type": "markdown",
   "metadata": {},
   "source": [
    "## Examples\n"
   ]
  },
  {
   "cell_type": "code",
   "execution_count": 1,
   "metadata": {},
   "outputs": [
    {
     "name": "stdout",
     "output_type": "stream",
     "text": [
      "Introduction to Python Programming\n",
      "P:y:t:h:o:n: :P:r:o:g:r:a:m:m:i:n:g\n",
      "P y t h o n   P r o g r a m m i n g\n",
      "Hello! Hello! Hello! \n",
      "PYTHON PROGRAMMING\n",
      "python programming\n",
      "pYTHON pROGRAMMING\n",
      "Python programming\n",
      "Python Programming\n",
      "True\n",
      "False\n",
      "True\n",
      "True\n",
      "False\n",
      "True\n",
      "False\n",
      "False\n",
      "['Introduction', 'to']\n",
      "g :n :i :m :m :a :r :g :o :r :P :  :n :o :h :t :y :P\n"
     ]
    }
   ],
   "source": [
    "str1 = \"Introduction to\"\n",
    "str2 = \" \"\n",
    "str3 = \"Python Programming\"\n",
    "\n",
    "# Concatenate, joint, repeat\n",
    "str4 = str1 + str2 + str3\n",
    "print(str4)\n",
    "print(\":\".join(str3))\n",
    "print(\" \".join(str3))\n",
    "print(\"Hello! \" * 3) # releat the string\n",
    "\n",
    "# changing upper and lower case\n",
    "print(str3.upper())\n",
    "print(str3.lower())\n",
    "print(str3.swapcase())\n",
    "print(str3.capitalize())\n",
    "print(str3.title())\n",
    "\n",
    "# Testing for truth value\n",
    "print(\"o\" in str1)\n",
    "print(\"o\" not in str1)\n",
    "print(str3.startswith(\"P\"))\n",
    "print(str3.endswith(\"g\"))\n",
    "print(str4.isdigit()) # if the string contains digits\n",
    "print(str3.istitle()) # if the string is title case\n",
    "print(str4.isalpha()) # if the string is alphabetic except space\n",
    "print(str4.isalnum()) # if the string characters are alphanumeric\n",
    "\n",
    "# split strings\n",
    "print(str1.split(' '))\n",
    "\n",
    "# reverse string\n",
    "print(\" :\".join(reversed(str3)))\n"
   ]
  },
  {
   "cell_type": "markdown",
   "metadata": {},
   "source": [
    "## Lecture and Lab Session: Week 4 - String Operation, Dictionary, and Set Data Type\n",
    "### Exercise 1: String Operations\n",
    "A string is assigned to a variable `x`"
   ]
  },
  {
   "cell_type": "code",
   "execution_count": 2,
   "metadata": {},
   "outputs": [
    {
     "name": "stdout",
     "output_type": "stream",
     "text": [
      "Python interpreter and the extensive standard library are freely available in source or binary form for all major platforms from the python web site, https://www.python.org/\n",
      "The Python interpreter and the extensive standard library are freely available in source or binary form for all major platforms from the python web site, https://www.python.org/.\n"
     ]
    }
   ],
   "source": [
    "x = \"python interpreter and the extensive standard library are freely available in source or binary form for all major platforms from the Python Web site, https://www.python.org/\"\n",
    "x = x.capitalize()\n",
    "print(x)\n",
    "x = \"The \" + x + \".\"\n",
    "print(x)"
   ]
  },
  {
   "cell_type": "markdown",
   "metadata": {},
   "source": [
    "### Exercise 2: Print following pattern by using string repeat operation\n"
   ]
  },
  {
   "cell_type": "code",
   "execution_count": 3,
   "metadata": {},
   "outputs": [
    {
     "name": "stdout",
     "output_type": "stream",
     "text": [
      "*hello* *hello* \n",
      "*hello* *hello* *hello* *hello* *hello* *hello* *hello* *hello* *hello* *hello* *hello* *hello* *hello* *hello* *hello* *hello* *hello* *hello* *hello* *hello* *hello* \n",
      "*hello* *hello* \n",
      "*hello* *hello* *hello* \n",
      "*hello* *hello* *hello* *hello* \n",
      "*hello* *hello* *hello* *hello* *hello* \n",
      "             **\n",
      "            ****\n",
      "           ******\n",
      "          ********\n",
      "         **********\n",
      "        ************\n",
      "       **************\n",
      "      ****************\n",
      "     ******************\n",
      "    ********************\n",
      "   **********************\n",
      "  ************************\n",
      " **************************\n",
      "****************************\n"
     ]
    }
   ],
   "source": [
    "print(\"*hello* \"*2)\n",
    "print(\"*hello* \"*21)\n",
    "\n",
    "for i in range(2, 6):\n",
    "    print(\"*hello* \"*i)\n",
    "\n",
    "for i in range(1, 15):\n",
    "    print(\" \"*(14-i) + \"**\"*i)"
   ]
  },
  {
   "cell_type": "markdown",
   "metadata": {},
   "source": [
    "### Exercise 3: Escape Characters in String\n",
    "A string is assigned to a variable `x`.\n",
    "\n",
    "`x = \"Your line spacing options are not limited to the ones in the Line and Paragraph Spacing menu. To adjust spacing with more precision, select Line Spacing Options from the menu to access the Paragraph dialog box.You will then have a few additional options you can use to customize spacing.\"`\n",
    "\n",
    "**Insert escape characters inside this string to:**\n",
    "\n",
    "* Step 1.1 : to change `are not` to `aren't`\n",
    "* Step 1.2 : to change `you will` to `you'll`\n",
    "* Step 2: Then, print all sentences in separate lines"
   ]
  },
  {
   "cell_type": "code",
   "execution_count": 4,
   "metadata": {},
   "outputs": [
    {
     "name": "stdout",
     "output_type": "stream",
     "text": [
      "True\n",
      "Your line spacing options aren't limited to the ones in the Line and Paragraph Spacing menu. To adjust spacing with more precision, select Line Spacing Options from the menu to access the Paragraph dialog box. You will then have a few additional options you can use to customize spacing.\n",
      "Your line spacing options aren't limited to the ones in the Line and Paragraph Spacing menu.\n",
      "To adjust spacing with more precision, select Line Spacing Options from the menu to access the Paragraph dialog box.\n",
      "You will then have a few additional options you can use to customize spacing.\n"
     ]
    }
   ],
   "source": [
    "x = \"Your line spacing options are not limited to the ones in the Line and Paragraph Spacing menu. To adjust spacing with more precision, select Line Spacing Options from the menu to access the Paragraph dialog box. You will then have a few additional options you can use to customize spacing.\"\n",
    "print(\"are not\" in x)\n",
    "\n",
    "\n",
    "x = x.replace(\"are not\", \"aren't\")\n",
    "x = x.replace(\"you will\", \"you'll\")\n",
    "print(x)\n",
    "\n",
    "x = x.replace(\". \", \".\\n\")\n",
    "print(x)"
   ]
  },
  {
   "cell_type": "markdown",
   "metadata": {},
   "source": [
    "### String formating examples"
   ]
  },
  {
   "cell_type": "code",
   "execution_count": 5,
   "metadata": {},
   "outputs": [
    {
     "name": "stdout",
     "output_type": "stream",
     "text": [
      "Name: Swati Sachan, ID:78563, Balance:  5391.78\n",
      "Name: Swati Sachan, ID: 78563, Balance:   5391.78\n"
     ]
    }
   ],
   "source": [
    "print(\"Name: %s, ID:%d, Balance:%9.2f\" % (\"Swati Sachan\", 78563, 5391.7832)) # with modulo operator\n",
    "\n",
    "print(\"Name: {0:s}, ID: {1:d}, Balance: {2:9.2f}\".format(\"Swati Sachan\", 78563, 5391.7832)) # with format method"
   ]
  },
  {
   "cell_type": "markdown",
   "metadata": {},
   "source": [
    "### Exercise 4: String Formatting\n",
    "Use `str.format()` and modulo operator `%` function to performs string formatting of following statement.\n",
    "\n",
    "Hey! `{Name}`, your account has been credited £ `{Amount}`\n",
    "\n",
    "* Print `John` and `5786.72478` as `{Name}` and `{Amount}` in the print statement by using `str.format()` and `%`.\n",
    "* Print Amount value to 3 decimal digits.\n",
    "\n",
    "*Desired result:*\n",
    "\n",
    "`Hey! John, your account has been credited £ 5786.725`\n",
    "\n",
    "Desired result should be same by both methods, `str.format()` and `%.`"
   ]
  },
  {
   "cell_type": "code",
   "execution_count": 6,
   "metadata": {},
   "outputs": [
    {
     "name": "stdout",
     "output_type": "stream",
     "text": [
      "Hey! John, your account has been credited £ 5786.725\n",
      "Hey! John, your account has been credited £ 5786.725\n"
     ]
    }
   ],
   "source": [
    "print(\"Hey! %s, your account has been credited £%9.3f\" % (\"John\",5786.72478))\n",
    "\n",
    "print(\"Hey! {0:s}, your account has been credited £{1:9.3f}\".format(\"John\",5786.72478))"
   ]
  },
  {
   "cell_type": "markdown",
   "metadata": {},
   "source": [
    "### Date formating example\n"
   ]
  },
  {
   "cell_type": "code",
   "execution_count": 7,
   "metadata": {},
   "outputs": [
    {
     "name": "stdout",
     "output_type": "stream",
     "text": [
      "Today's date is 2024-10-24\n",
      "-11 days, 23:46:00\n"
     ]
    }
   ],
   "source": [
    "import datetime as dt\n",
    "print(\"Today's date is %s\" % dt.date.today())\n",
    "\n",
    "date1 = \"12/11/2024 23:34:23\"\n",
    "date2 = \"02/11/2024 23:20:23\"\n",
    "\n",
    "date1 = dt.datetime.strptime(date1, \"%d/%m/%Y %H:%M:%S\")\n",
    "date2 = dt.datetime.strptime(date2, \"%d/%m/%Y %H:%M:%S\")\n",
    "\n",
    "print(date2 - date1)"
   ]
  },
  {
   "cell_type": "markdown",
   "metadata": {},
   "source": [
    "### Exercise 5: Datetime Formatting\n",
    "* Step 1: Use `datetime` module to find current date `current_date`.\n",
    "\n",
    "For example, Today's date and time, when I am writing this lab work is `2021-09-16 16:25:26.037927`. Your date and time will be different.\n",
    "\n",
    "Do not forget to import datetime module.\n",
    "`import datetime`\n",
    "* Step2: Convert `current_date` to a string.\n",
    "\n",
    "hint: use `str(current_date)`\n",
    "\n",
    "* Step 3: Now, strip date and time from the string `current_date`\n",
    "\n",
    "hint: datatime format `%Y-%m-%d %H:%M:%S.%f`"
   ]
  },
  {
   "cell_type": "code",
   "execution_count": 11,
   "metadata": {},
   "outputs": [
    {
     "name": "stdout",
     "output_type": "stream",
     "text": [
      "2024-10-24 16:46:09.237846\n",
      "Today's date and time, when I am writing this lab work is %s. 2024-10-24 16:46:09.237846\n",
      "2024-10-24 16:46:09.237846\n",
      "2024-10-24 16:46:09.237846\n"
     ]
    }
   ],
   "source": [
    "import datetime as dt\n",
    "current_date = dt.datetime.now()\n",
    "print(current_date)\n",
    "print(\"Today's date and time, when I am writing this lab work is %s.\", current_date)\n",
    "\n",
    "string_date = str(current_date)\n",
    "print(string_date)\n",
    "\n",
    "\n",
    "# string date and time\n",
    "strin_date = current_date.strptime(string_date, \"%Y-%m-%d %H:%M:%S.%f\") #%Y-%m-%d %H:%M:%S.%f\n",
    "\n",
    "print(strin_date)"
   ]
  },
  {
   "cell_type": "code",
   "execution_count": 10,
   "metadata": {},
   "outputs": [
    {
     "name": "stdout",
     "output_type": "stream",
     "text": [
      "<[OK] Ipinfo - Geocode [Liverpool, England, GB]>\n",
      "[53.4106, -2.9779]\n"
     ]
    }
   ],
   "source": [
    "import geocoder\n",
    "g = geocoder.ip('me')\n",
    "print(g)\n",
    "print(g.latlng)"
   ]
  },
  {
   "cell_type": "markdown",
   "metadata": {},
   "source": [
    "### Exercise 6: User Input – input( )\n",
    "a) Prompt the user to input their name, city, and country of residence and store these values by using `input()`\n",
    "\n",
    "Example to prompt the user to input their name: `name = input(\"What is your name?: \")`\n",
    "\n",
    "b) Print out a line greeting the user, using the information they have provided e.g. \"Nice to meet you Danny from Newyork, US.\""
   ]
  },
  {
   "cell_type": "code",
   "execution_count": null,
   "metadata": {},
   "outputs": [],
   "source": [
    "# name = input(\"What is your name?: \")\n",
    "# print(\"Nice to meet you %s from Newyork, US.\", name)"
   ]
  },
  {
   "cell_type": "markdown",
   "metadata": {},
   "source": [
    "### Exercise 7: Set operations\n",
    "Step 1: Split following sentences into list of words. Split string: `sentence1` and `sentence2` into list of words by using `string.split(' ')` function. Then, transform `list` to `set`.\n",
    "\n",
    "`sentence1 = \"Simple is better than complex .\"`\n",
    "\n",
    "`sentence2 = \"Complex is better than complicated .\"`\n",
    "\n",
    "hint: The syntax `sentence1.split(' ')` split sentence to list of words. The syntax `set()` convert a `list` to a `set`.\n",
    "\n",
    "Step 2: Find union, intersection, and difference between two set of words.\n",
    "\n",
    "Step 3: Check if two sets are disjoint, subsets, and supersets."
   ]
  },
  {
   "cell_type": "code",
   "execution_count": 6,
   "metadata": {},
   "outputs": [
    {
     "name": "stdout",
     "output_type": "stream",
     "text": [
      "{'complex', 'Complex', 'better', 'than', '.', 'is', 'complicated', 'Simple'}\n",
      "{'better', 'than', '.', 'is'}\n",
      "{'Simple', 'complex'}\n",
      "False\n",
      "False\n",
      "False\n"
     ]
    }
   ],
   "source": [
    "sentence1 = \"Simple is better than complex .\"\n",
    "sentence2 = \"Complex is better than complicated .\"\n",
    "\n",
    "set_sentence1 = set(sentence1.split(\" \")) \n",
    "set_sentence2 = set(sentence2.split(\" \"))\n",
    "\n",
    "# find union\n",
    "print(set_sentence1.union(set_sentence2))\n",
    "\n",
    "# find intersection\n",
    "print(set_sentence1.intersection(set_sentence2))\n",
    "\n",
    "# find difference\n",
    "print(set_sentence1.difference(set_sentence2))\n",
    "\n",
    "# check for disjoint\n",
    "print(set_sentence1.isdisjoint(set_sentence2))\n",
    "\n",
    "# check for subset\n",
    "print(set_sentence1.issubset(set_sentence2))\n",
    "\n",
    "# check for superset\n",
    "print(set_sentence1.issuperset(set_sentence2))"
   ]
  },
  {
   "cell_type": "markdown",
   "metadata": {},
   "source": [
    "### Dictionary examples"
   ]
  },
  {
   "cell_type": "code",
   "execution_count": 13,
   "metadata": {},
   "outputs": [
    {
     "name": "stdout",
     "output_type": "stream",
     "text": [
      "Jan\n",
      "['Jan', 'Feb', 'Mar']\n",
      "100\n",
      "[1000, 2000, 3000]\n",
      "{'Month': 'Apr', 'Income': 1000, 'Saving': 100}\n",
      "{'Month': ['Jan', 'Feb', 'Mar'], 'Income': [1000, 2500, 3000], 'Saving': [100, 200, 300]}\n",
      "{'Month': ['Jan', 'Feb', 'Mar'], 'Income': [1000, 2500, 3000]}\n"
     ]
    }
   ],
   "source": [
    "dictionary = {\"Month\":\"Jan\", \"Income\":1000, \"Saving\":100}\n",
    "dictionary_list = {\"Month\": [\"Jan\",\"Feb\", \"Mar\"], \"Income\": [1000, 2000, 3000], \"Saving\": [100, 200, 300]}\n",
    "\n",
    "print(dictionary[\"Month\"])\n",
    "print(dictionary_list[\"Month\"])\n",
    "\n",
    "# get() function\n",
    "print(dictionary.get(\"Saving\"))\n",
    "print(dictionary_list.get(\"Income\"))\n",
    "\n",
    "# update the dictionary month\n",
    "dictionary[\"Month\"] = \"Apr\"\n",
    "print(dictionary)\n",
    "\n",
    "# update the incomwe at index 1 in the dictionary_list\n",
    "dictionary_list[\"Income\"][1] = 2500\n",
    "print(dictionary_list)\n",
    "\n",
    "# delete an item in the dictionary\n",
    "del dictionary_list[\"Saving\"]\n",
    "print(dictionary_list)"
   ]
  },
  {
   "cell_type": "markdown",
   "metadata": {},
   "source": [
    "### Exercise 8: Dictionary\n",
    "* Get keys of dictionary `Company`\n",
    "* Get keys of dictionary `Company[Department1]`\n",
    "* Access data\n",
    "    (a) get data from `Department2`\n",
    "\n",
    "    (b) get data from `Department3`\n",
    "\n",
    "    (c) get name of `Department2`\n",
    "\n",
    "    (d) get Revenue of `Department4`\n",
    "\n",
    "* get `keys` of dictionary `Company[\"Department4\"]`\n",
    "`Company = { \"Department1\" : { \"name\" : \"Data Governance\", \"Revenue\" : 20011.78 }, \"Department2\" : { \"name\" : \"Electricity Pricing\", \"Revenue\" : 55451.901 }, \"Department3\" : { \"name\" : \"Gas Pricing\", \"Revenue\" : 62728.99 }, \"Department4\" : { \"name\" : \"Smart Meter\", \"Revenue\" : 41728.99 } }`"
   ]
  },
  {
   "cell_type": "code",
   "execution_count": 21,
   "metadata": {},
   "outputs": [
    {
     "name": "stdout",
     "output_type": "stream",
     "text": [
      "dict_keys(['Department1', 'Department2', 'Department3', 'Department4'])\n",
      "dict_keys(['name', 'Revenue'])\n",
      "{'name': 'Electricity Pricing', 'Revenue': 55451.901}\n",
      "{'name': 'Gas Pricing', 'Revenue': 62728.99}\n",
      "Electricity Pricing\n",
      "41728.99\n",
      "dict_keys(['name', 'Revenue'])\n"
     ]
    }
   ],
   "source": [
    "Company = { \"Department1\" : { \"name\" : \"Data Governance\", \"Revenue\" : 20011.78 }, \"Department2\" : { \"name\" : \"Electricity Pricing\", \"Revenue\" : 55451.901 }, \"Department3\" : { \"name\" : \"Gas Pricing\", \"Revenue\" : 62728.99 }, \"Department4\" : { \"name\" : \"Smart Meter\", \"Revenue\" : 41728.99 } }\n",
    "\n",
    "# get keys\n",
    "print(Company.keys())\n",
    "print(Company[\"Department1\"].keys())\n",
    "\n",
    "# Access data\n",
    "print(Company[\"Department2\"])\n",
    "print(Company.get(\"Department3\"))\n",
    "print(Company.get(\"Department2\").get(\"name\"))\n",
    "print(Company[\"Department4\"][\"Revenue\"])\n",
    "\n",
    "# get keys\n",
    "print(Company[\"Department4\"].keys())"
   ]
  }
 ],
 "metadata": {
  "kernelspec": {
   "display_name": "venv",
   "language": "python",
   "name": "python3"
  },
  "language_info": {
   "codemirror_mode": {
    "name": "ipython",
    "version": 3
   },
   "file_extension": ".py",
   "mimetype": "text/x-python",
   "name": "python",
   "nbconvert_exporter": "python",
   "pygments_lexer": "ipython3",
   "version": "3.12.3"
  }
 },
 "nbformat": 4,
 "nbformat_minor": 2
}
