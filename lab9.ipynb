{
 "cells": [
  {
   "cell_type": "markdown",
   "metadata": {},
   "source": [
    "### Lecture and Lab Session: - Introduction to Pandas Data Frame, Export and Import Files, and Directory Management\n",
    "\n",
    "#### 1. Import os module \n"
   ]
  },
  {
   "cell_type": "code",
   "execution_count": 14,
   "metadata": {},
   "outputs": [],
   "source": [
    "import os\n",
    "\n",
    "path = '/home/elvin/DEVELOPMENT/liverpool/newlabwork/Week 8 files'"
   ]
  },
  {
   "cell_type": "markdown",
   "metadata": {},
   "source": [
    "#### 2.1 os.getcwd(): THis command give \"Current Working Directory\" (CWD) that is running the code\n"
   ]
  },
  {
   "cell_type": "code",
   "execution_count": 15,
   "metadata": {},
   "outputs": [
    {
     "name": "stdout",
     "output_type": "stream",
     "text": [
      "Current working directory is:  /home/elvin/DEVELOPMENT/liverpool/newlabwork\n"
     ]
    }
   ],
   "source": [
    "def print_current_working_directory():\n",
    "    \"\"\"\n",
    "    Print the current working directory\n",
    "    \"\"\"\n",
    "    try: \n",
    "        cwd = os.getcwd()\n",
    "        print(\"Current working directory is: \", cwd)\n",
    "    except Exception as e:\n",
    "        print(\"An error occurred: \", e)\n",
    "\n",
    "print_current_working_directory()"
   ]
  },
  {
   "cell_type": "markdown",
   "metadata": {},
   "source": [
    "#### 2.2 os.mkdir(): Create a new directoy\n"
   ]
  },
  {
   "cell_type": "code",
   "execution_count": 16,
   "metadata": {},
   "outputs": [
    {
     "ename": "FileExistsError",
     "evalue": "[Errno 17] File exists: '/home/elvin/Desktop/new_folder_1'",
     "output_type": "error",
     "traceback": [
      "\u001b[0;31m---------------------------------------------------------------------------\u001b[0m",
      "\u001b[0;31mFileExistsError\u001b[0m                           Traceback (most recent call last)",
      "Cell \u001b[0;32mIn[16], line 2\u001b[0m\n\u001b[1;32m      1\u001b[0m path1 \u001b[38;5;241m=\u001b[39m \u001b[38;5;124m'\u001b[39m\u001b[38;5;124m/home/elvin/Desktop/new_folder_1\u001b[39m\u001b[38;5;124m'\u001b[39m\n\u001b[0;32m----> 2\u001b[0m \u001b[43mos\u001b[49m\u001b[38;5;241;43m.\u001b[39;49m\u001b[43mmkdir\u001b[49m\u001b[43m(\u001b[49m\u001b[43mpath1\u001b[49m\u001b[43m)\u001b[49m\n",
      "\u001b[0;31mFileExistsError\u001b[0m: [Errno 17] File exists: '/home/elvin/Desktop/new_folder_1'"
     ]
    }
   ],
   "source": [
    "path1 = '/home/elvin/Desktop/new_folder_1'\n",
    "os.mkdir(path1)"
   ]
  },
  {
   "cell_type": "markdown",
   "metadata": {},
   "source": [
    "#### 2.3 os.chdir(): CHange directory path\n",
    "`os.chdir(\"...\")`"
   ]
  },
  {
   "cell_type": "markdown",
   "metadata": {},
   "source": [
    "#### 3. os.listdir(): Get the full list of all files and directories"
   ]
  },
  {
   "cell_type": "code",
   "execution_count": null,
   "metadata": {},
   "outputs": [
    {
     "data": {
      "text/plain": [
       "['smalldata.txt', 'store1features.zip', 'plot.png']"
      ]
     },
     "execution_count": 5,
     "metadata": {},
     "output_type": "execute_result"
    }
   ],
   "source": [
    "path = '/home/elvin/DEVELOPMENT/liverpool/newlabwork/Week 8 files'\n",
    "os.listdir(path)"
   ]
  },
  {
   "cell_type": "markdown",
   "metadata": {},
   "source": [
    "#### 4. os.remove(): remove or delete a file path"
   ]
  },
  {
   "cell_type": "code",
   "execution_count": null,
   "metadata": {},
   "outputs": [
    {
     "name": "stdout",
     "output_type": "stream",
     "text": [
      "file removed successfully: /home/elvin/DEVELOPMENT/liverpool/newlabwork/Week 8 files/smalldata.txt\n"
     ]
    }
   ],
   "source": [
    "def remove_file(file_name, directory):\n",
    "    \"\"\"\n",
    "    Remove a file from a directory\n",
    "    \"\"\"\n",
    "    file_path = os.path.join(directory, file_name)\n",
    "    try:\n",
    "       os.remove(file_path)\n",
    "       print(f\"file removed successfully: {file_path}\")\n",
    "    except FileNotFoundError:\n",
    "        print(f\"file not found: {file_path}\")\n",
    "    except PermissionError:\n",
    "        print(f\"Permission denied: {file_path}\")\n",
    "    except Exception as e:\n",
    "        print(f\"An error occurred: {e}\")\n",
    "\n",
    "file_name = \"smalldata.txt\"\n",
    "directory = '/home/elvin/DEVELOPMENT/liverpool/newlabwork/Week 8 files'\n",
    "\n",
    "remove_file(file_name, directory)"
   ]
  },
  {
   "cell_type": "markdown",
   "metadata": {},
   "source": [
    "Check wheteher the removed file exists"
   ]
  },
  {
   "cell_type": "code",
   "execution_count": null,
   "metadata": {},
   "outputs": [
    {
     "data": {
      "text/plain": [
       "False"
      ]
     },
     "execution_count": 9,
     "metadata": {},
     "output_type": "execute_result"
    }
   ],
   "source": [
    "os.path.isfile(directory + file_name)"
   ]
  },
  {
   "cell_type": "markdown",
   "metadata": {},
   "source": [
    "#### 5. List all files of certain type in a directory"
   ]
  },
  {
   "cell_type": "code",
   "execution_count": null,
   "metadata": {},
   "outputs": [
    {
     "name": "stdout",
     "output_type": "stream",
     "text": [
      ".txt: []\n",
      ".csv: []\n",
      ".json: []\n",
      ".xlsx: []\n",
      ".png: ['plot.png']\n"
     ]
    }
   ],
   "source": [
    "\n",
    "file_types = {\n",
    "    '.txt': [],\n",
    "    '.csv': [],\n",
    "    '.json': [],\n",
    "    '.xlsx': [],\n",
    "    '.png': []\n",
    "}\n",
    "\n",
    "path = '/home/elvin/DEVELOPMENT/liverpool/newlabwork/Week 8 files'\n",
    "\n",
    "# serch for files with specific extensions in the directory\n",
    "for file in os.listdir(path):\n",
    "    ext = os.path.splitext(file)[1]\n",
    "    if ext in file_types:\n",
    "        file_types[ext].append(file)\n",
    "\n",
    "# print list of files types found in the directory\n",
    "for ext, files in file_types.items():\n",
    "    print(f\"{ext}: {files}\")"
   ]
  },
  {
   "cell_type": "markdown",
   "metadata": {},
   "source": [
    "### Pandas Library\n",
    "#### 1. Series\n",
    "This is a one-dimensional array of indexed data. It can be created from a list of arrays."
   ]
  },
  {
   "cell_type": "code",
   "execution_count": null,
   "metadata": {},
   "outputs": [
    {
     "data": {
      "text/plain": [
       "0     30.00\n",
       "1     51.45\n",
       "2     75.00\n",
       "3    100.00\n",
       "4     98.00\n",
       "5     78.50\n",
       "dtype: float64"
      ]
     },
     "execution_count": 2,
     "metadata": {},
     "output_type": "execute_result"
    }
   ],
   "source": [
    "import pandas as pd\n",
    "data = pd.Series([30, 51.45, 75, 100, 98, 78.50])\n",
    "data"
   ]
  },
  {
   "cell_type": "code",
   "execution_count": null,
   "metadata": {},
   "outputs": [
    {
     "data": {
      "text/plain": [
       "array([ 30.  ,  51.45,  75.  , 100.  ,  98.  ,  78.5 ])"
      ]
     },
     "execution_count": 3,
     "metadata": {},
     "output_type": "execute_result"
    }
   ],
   "source": [
    "# series to NumPy array\n",
    "data.values"
   ]
  },
  {
   "cell_type": "markdown",
   "metadata": {},
   "source": [
    "\n",
    "The index is an array-like object of type pd.Index"
   ]
  },
  {
   "cell_type": "code",
   "execution_count": null,
   "metadata": {},
   "outputs": [
    {
     "data": {
      "text/plain": [
       "RangeIndex(start=0, stop=6, step=1)"
      ]
     },
     "execution_count": 4,
     "metadata": {},
     "output_type": "execute_result"
    }
   ],
   "source": [
    "data.index"
   ]
  },
  {
   "cell_type": "markdown",
   "metadata": {},
   "source": [
    "Data can be accessed by the associated index via the familiar Python square-bracket [] notation:"
   ]
  },
  {
   "cell_type": "code",
   "execution_count": null,
   "metadata": {},
   "outputs": [
    {
     "data": {
      "text/plain": [
       "np.float64(75.0)"
      ]
     },
     "execution_count": 5,
     "metadata": {},
     "output_type": "execute_result"
    }
   ],
   "source": [
    "data[2]"
   ]
  },
  {
   "cell_type": "code",
   "execution_count": null,
   "metadata": {},
   "outputs": [
    {
     "data": {
      "text/plain": [
       "2     75.0\n",
       "3    100.0\n",
       "4     98.0\n",
       "dtype: float64"
      ]
     },
     "execution_count": 6,
     "metadata": {},
     "output_type": "execute_result"
    }
   ],
   "source": [
    "data[2:5]"
   ]
  },
  {
   "cell_type": "markdown",
   "metadata": {},
   "source": [
    "Series object has one-dimensional data and index. The index need not be an integer, like Numpy Array has an implicitly defined integer index. For example, Series can have strings as an index: "
   ]
  },
  {
   "cell_type": "code",
   "execution_count": null,
   "metadata": {},
   "outputs": [
    {
     "data": {
      "text/plain": [
       "student1     30.00\n",
       "student2     51.45\n",
       "student3     75.00\n",
       "student4    100.00\n",
       "student5     98.00\n",
       "student6     78.50\n",
       "dtype: float64"
      ]
     },
     "execution_count": 7,
     "metadata": {},
     "output_type": "execute_result"
    }
   ],
   "source": [
    "data = pd.Series([30, 51.45, 75, 100, 98, 78.50],\n",
    "                 index=['student1','student2','student3','student4','student5','student6'])\n",
    "data"
   ]
  },
  {
   "cell_type": "code",
   "execution_count": null,
   "metadata": {},
   "outputs": [
    {
     "data": {
      "text/plain": [
       "y1    23.00\n",
       "y2    78.45\n",
       "y3    89.00\n",
       "y4    19.00\n",
       "dtype: float64"
      ]
     },
     "execution_count": 8,
     "metadata": {},
     "output_type": "execute_result"
    }
   ],
   "source": [
    "my_dict = {\"y1\":23,\"y2\":78.45,\"y3\":89,\"y4\":19}\n",
    "my_series = pd.Series(my_dict)\n",
    "my_series"
   ]
  },
  {
   "cell_type": "markdown",
   "metadata": {},
   "source": [
    "#### 2. DataFrame\n",
    "\n",
    "* 'DataFrame' is a 2-dimensional labeled data structure with columns of different data types.\n",
    "\n",
    "* Data structure also contains labeled axes (rows and columns). Arithmetic operations align on both row and column labels. It can be thought of as a dictionary like container for Series objects. The primary pandas data structure.\n"
   ]
  },
  {
   "cell_type": "markdown",
   "metadata": {},
   "source": [
    "##### 2.1 Create Empty 'DataFrame'"
   ]
  },
  {
   "cell_type": "code",
   "execution_count": null,
   "metadata": {},
   "outputs": [
    {
     "data": {
      "text/html": [
       "<div>\n",
       "<style scoped>\n",
       "    .dataframe tbody tr th:only-of-type {\n",
       "        vertical-align: middle;\n",
       "    }\n",
       "\n",
       "    .dataframe tbody tr th {\n",
       "        vertical-align: top;\n",
       "    }\n",
       "\n",
       "    .dataframe thead th {\n",
       "        text-align: right;\n",
       "    }\n",
       "</style>\n",
       "<table border=\"1\" class=\"dataframe\">\n",
       "  <thead>\n",
       "    <tr style=\"text-align: right;\">\n",
       "      <th></th>\n",
       "      <th>Company</th>\n",
       "      <th>Type</th>\n",
       "      <th>Revenue</th>\n",
       "      <th>Currency</th>\n",
       "    </tr>\n",
       "  </thead>\n",
       "  <tbody>\n",
       "  </tbody>\n",
       "</table>\n",
       "</div>"
      ],
      "text/plain": [
       "Empty DataFrame\n",
       "Columns: [Company, Type, Revenue, Currency]\n",
       "Index: []"
      ]
     },
     "execution_count": 9,
     "metadata": {},
     "output_type": "execute_result"
    }
   ],
   "source": [
    "column_names = [\"Company\", \"Type\", \"Revenue\", \"Currency\"]\n",
    "df_empty = pd.DataFrame(columns = column_names)\n",
    "df_empty"
   ]
  },
  {
   "cell_type": "markdown",
   "metadata": {},
   "source": [
    "##### 2.2 Add rows to empty 'DataFrame'"
   ]
  },
  {
   "cell_type": "code",
   "execution_count": null,
   "metadata": {},
   "outputs": [
    {
     "data": {
      "text/html": [
       "<div>\n",
       "<style scoped>\n",
       "    .dataframe tbody tr th:only-of-type {\n",
       "        vertical-align: middle;\n",
       "    }\n",
       "\n",
       "    .dataframe tbody tr th {\n",
       "        vertical-align: top;\n",
       "    }\n",
       "\n",
       "    .dataframe thead th {\n",
       "        text-align: right;\n",
       "    }\n",
       "</style>\n",
       "<table border=\"1\" class=\"dataframe\">\n",
       "  <thead>\n",
       "    <tr style=\"text-align: right;\">\n",
       "      <th></th>\n",
       "      <th>Company</th>\n",
       "      <th>Type</th>\n",
       "      <th>Revenue</th>\n",
       "      <th>Currency</th>\n",
       "    </tr>\n",
       "  </thead>\n",
       "  <tbody>\n",
       "    <tr>\n",
       "      <th>0</th>\n",
       "      <td>BCG</td>\n",
       "      <td>Consulting</td>\n",
       "      <td>11.7 billion</td>\n",
       "      <td>USD</td>\n",
       "    </tr>\n",
       "    <tr>\n",
       "      <th>1</th>\n",
       "      <td>Microsoft</td>\n",
       "      <td>Tech</td>\n",
       "      <td>3.114 trillion</td>\n",
       "      <td>USD</td>\n",
       "    </tr>\n",
       "    <tr>\n",
       "      <th>2</th>\n",
       "      <td>Bain &amp; Company</td>\n",
       "      <td>Consulting</td>\n",
       "      <td>8.5 billion</td>\n",
       "      <td>USD</td>\n",
       "    </tr>\n",
       "    <tr>\n",
       "      <th>3</th>\n",
       "      <td>JPMorgan Chase Bank</td>\n",
       "      <td>Investment Bank</td>\n",
       "      <td>705.14 billion</td>\n",
       "      <td>USD</td>\n",
       "    </tr>\n",
       "    <tr>\n",
       "      <th>4</th>\n",
       "      <td>Nvidia</td>\n",
       "      <td>Tech</td>\n",
       "      <td>3.476 trillion</td>\n",
       "      <td>USD</td>\n",
       "    </tr>\n",
       "    <tr>\n",
       "      <th>5</th>\n",
       "      <td>Monzo Bank</td>\n",
       "      <td>Digital Bank</td>\n",
       "      <td>4 billion</td>\n",
       "      <td>GBP</td>\n",
       "    </tr>\n",
       "    <tr>\n",
       "      <th>6</th>\n",
       "      <td>Coinbase</td>\n",
       "      <td>Cryptocurrency Exchange</td>\n",
       "      <td>207 billion</td>\n",
       "      <td>USD</td>\n",
       "    </tr>\n",
       "  </tbody>\n",
       "</table>\n",
       "</div>"
      ],
      "text/plain": [
       "               Company                     Type         Revenue Currency\n",
       "0                  BCG               Consulting    11.7 billion      USD\n",
       "1            Microsoft                     Tech  3.114 trillion      USD\n",
       "2       Bain & Company               Consulting     8.5 billion      USD\n",
       "3  JPMorgan Chase Bank          Investment Bank  705.14 billion      USD\n",
       "4               Nvidia                     Tech  3.476 trillion      USD\n",
       "5           Monzo Bank             Digital Bank       4 billion      GBP\n",
       "6             Coinbase  Cryptocurrency Exchange     207 billion      USD"
      ]
     },
     "execution_count": 10,
     "metadata": {},
     "output_type": "execute_result"
    }
   ],
   "source": [
    "#1) Create column names\n",
    "column_names = [\"Company\", \"Type\" ,\"Revenue\", \"Currency\"]\n",
    "\n",
    "#2) Data\n",
    "data = [\n",
    "    {\"Company\": \"BCG\", \"Type\": \"Consulting\", \"Revenue\": \"11.7 billion\", \"Currency\": \"USD\"},\n",
    "    {\"Company\": \"Microsoft\", \"Type\": \"Tech\", \"Revenue\": \"3.114 trillion\", \"Currency\": \"USD\"},\n",
    "    {\"Company\": \"Bain & Company\", \"Type\": \"Consulting\", \"Revenue\": \"8.5 billion\", \"Currency\": \"USD\"},\n",
    "    {\"Company\": \"JPMorgan Chase Bank\", \"Type\": \"Investment Bank\", \"Revenue\": \"705.14 billion\", \"Currency\": \"USD\"},\n",
    "    {\"Company\": \"Nvidia\", \"Type\": \"Tech\", \"Revenue\": \"3.476 trillion\", \"Currency\": \"USD\"},\n",
    "    {\"Company\": \"Monzo Bank\", \"Type\": \"Digital Bank\", \"Revenue\": \"4 billion\", \"Currency\": \"GBP\"},\n",
    "    {\"Company\": \"Coinbase\", \"Type\": \"Cryptocurrency Exchange\", \"Revenue\": \"207 billion\", \"Currency\": \"USD\"}\n",
    "]\n",
    "\n",
    "#3) Create DataFrame\n",
    "df1 = pd.DataFrame(data, columns=column_names)\n",
    "\n",
    "#4) print\n",
    "df1"
   ]
  },
  {
   "cell_type": "markdown",
   "metadata": {},
   "source": [
    "##### 2.3 Append columns to empty `DataFrame`"
   ]
  },
  {
   "cell_type": "code",
   "execution_count": null,
   "metadata": {},
   "outputs": [
    {
     "data": {
      "text/html": [
       "<div>\n",
       "<style scoped>\n",
       "    .dataframe tbody tr th:only-of-type {\n",
       "        vertical-align: middle;\n",
       "    }\n",
       "\n",
       "    .dataframe tbody tr th {\n",
       "        vertical-align: top;\n",
       "    }\n",
       "\n",
       "    .dataframe thead th {\n",
       "        text-align: right;\n",
       "    }\n",
       "</style>\n",
       "<table border=\"1\" class=\"dataframe\">\n",
       "  <thead>\n",
       "    <tr style=\"text-align: right;\">\n",
       "      <th></th>\n",
       "      <th>Company</th>\n",
       "      <th>Type</th>\n",
       "      <th>Revenue</th>\n",
       "      <th>Currency</th>\n",
       "    </tr>\n",
       "  </thead>\n",
       "  <tbody>\n",
       "    <tr>\n",
       "      <th>0</th>\n",
       "      <td>BCG</td>\n",
       "      <td>Consulting</td>\n",
       "      <td>11.7 billion</td>\n",
       "      <td>USD</td>\n",
       "    </tr>\n",
       "    <tr>\n",
       "      <th>1</th>\n",
       "      <td>Microsoft</td>\n",
       "      <td>Tech</td>\n",
       "      <td>3.114 trillion</td>\n",
       "      <td>USD</td>\n",
       "    </tr>\n",
       "    <tr>\n",
       "      <th>2</th>\n",
       "      <td>Bain &amp; Company</td>\n",
       "      <td>Consulting</td>\n",
       "      <td>8.5 billion</td>\n",
       "      <td>USD</td>\n",
       "    </tr>\n",
       "    <tr>\n",
       "      <th>3</th>\n",
       "      <td>JPMorgan Chase Bank</td>\n",
       "      <td>Investment Bank</td>\n",
       "      <td>705.14 billion</td>\n",
       "      <td>USD</td>\n",
       "    </tr>\n",
       "    <tr>\n",
       "      <th>4</th>\n",
       "      <td>Nvidia</td>\n",
       "      <td>Tech</td>\n",
       "      <td>3.476 trillion</td>\n",
       "      <td>USD</td>\n",
       "    </tr>\n",
       "    <tr>\n",
       "      <th>5</th>\n",
       "      <td>Monzo Bank</td>\n",
       "      <td>Digital Bank</td>\n",
       "      <td>4 billion</td>\n",
       "      <td>GBP</td>\n",
       "    </tr>\n",
       "    <tr>\n",
       "      <th>6</th>\n",
       "      <td>Coinbase</td>\n",
       "      <td>Cryptocurrency Exchange</td>\n",
       "      <td>207 billion</td>\n",
       "      <td>USD</td>\n",
       "    </tr>\n",
       "  </tbody>\n",
       "</table>\n",
       "</div>"
      ],
      "text/plain": [
       "               Company                     Type         Revenue Currency\n",
       "0                  BCG               Consulting    11.7 billion      USD\n",
       "1            Microsoft                     Tech  3.114 trillion      USD\n",
       "2       Bain & Company               Consulting     8.5 billion      USD\n",
       "3  JPMorgan Chase Bank          Investment Bank  705.14 billion      USD\n",
       "4               Nvidia                     Tech  3.476 trillion      USD\n",
       "5           Monzo Bank             Digital Bank       4 billion      GBP\n",
       "6             Coinbase  Cryptocurrency Exchange     207 billion      USD"
      ]
     },
     "execution_count": 17,
     "metadata": {},
     "output_type": "execute_result"
    }
   ],
   "source": [
    "#1) Create column names\n",
    "column_names = [\"Company\", \"Type\" ,\"Revenue\", \"Currency\"]\n",
    "\n",
    "#2) Again, Create dataframe with column names defined in previous step\n",
    "df2 = pd.DataFrame(columns = column_names)\n",
    "\n",
    "#3) Append columns\n",
    "df2[\"Company\"] = ['BCG', 'Microsoft', 'Bain & Company', 'JPMorgan Chase Bank', 'Nvidia', 'Monzo Bank', 'Coinbase']\n",
    "df2[\"Type\"]= ['Consulting', 'Tech', 'Consulting', 'Investment Bank', 'Tech', 'Digital Bank', 'Cryptocurrency Exchange']\n",
    "df2[\"Revenue\"] = ['11.7 billion', '3.114 trillion', '8.5 billion', '705.14 billion', '3.476 trillion', '4 billion', '207 billion']\n",
    "df2[\"Currency\"] = ['USD', 'USD', 'USD', 'USD', 'USD', 'GBP', 'USD']\n",
    "\n",
    "#4) print Dataframe\n",
    "df2 "
   ]
  },
  {
   "cell_type": "markdown",
   "metadata": {},
   "source": [
    "##### 2.4 Data in `Dictionary` to `DataFrame`\n",
    "Keys of the dict become the DataFrame columns"
   ]
  },
  {
   "cell_type": "code",
   "execution_count": null,
   "metadata": {},
   "outputs": [
    {
     "name": "stdout",
     "output_type": "stream",
     "text": [
      "               Company         Revenue Currency\n",
      "0                  BCG    11.7 billion      USD\n",
      "1            Microsoft  3.114 trillion      USD\n",
      "2       Bain & Company     8.5 billion      USD\n",
      "3  JPMorgan Chase Bank  705.14 billion      USD\n",
      "4               Nvidia  3.476 trillion      USD\n",
      "5           Monzo Bank       4 billion      GBP\n",
      "6             Coinbase     207 billion      USD\n"
     ]
    }
   ],
   "source": [
    "test_dictionary = {\n",
    "    'Company': {0: 'BCG', 1: 'Microsoft', 2: 'Bain & Company', 3: 'JPMorgan Chase Bank', 4: 'Nvidia', 5: 'Monzo Bank', 6: 'Coinbase'},\n",
    "    'Revenue': {0: '11.7 billion', 1: '3.114 trillion', 2: '8.5 billion', 3: '705.14 billion', 4: '3.476 trillion', 5: '4 billion', 6: '207 billion'},\n",
    "    'Currency': {0: 'USD', 1: 'USD', 2: 'USD', 3: 'USD', 4: 'USD', 5: 'GBP', 6: 'USD'}\n",
    "}\n",
    "\n",
    "dict_to_df = pd.DataFrame.from_dict(test_dictionary)\n",
    "print(dict_to_df)"
   ]
  },
  {
   "cell_type": "markdown",
   "metadata": {},
   "source": [
    "##### 2.5 NumPy array to Pandas DataFrame"
   ]
  },
  {
   "cell_type": "code",
   "execution_count": null,
   "metadata": {},
   "outputs": [
    {
     "data": {
      "text/html": [
       "<div>\n",
       "<style scoped>\n",
       "    .dataframe tbody tr th:only-of-type {\n",
       "        vertical-align: middle;\n",
       "    }\n",
       "\n",
       "    .dataframe tbody tr th {\n",
       "        vertical-align: top;\n",
       "    }\n",
       "\n",
       "    .dataframe thead th {\n",
       "        text-align: right;\n",
       "    }\n",
       "</style>\n",
       "<table border=\"1\" class=\"dataframe\">\n",
       "  <thead>\n",
       "    <tr style=\"text-align: right;\">\n",
       "      <th></th>\n",
       "      <th>Company</th>\n",
       "      <th>Type</th>\n",
       "      <th>Revenue</th>\n",
       "      <th>Currency</th>\n",
       "    </tr>\n",
       "  </thead>\n",
       "  <tbody>\n",
       "    <tr>\n",
       "      <th>0</th>\n",
       "      <td>BCG</td>\n",
       "      <td>Consulting</td>\n",
       "      <td>11.7 billion</td>\n",
       "      <td>USD</td>\n",
       "    </tr>\n",
       "    <tr>\n",
       "      <th>1</th>\n",
       "      <td>Microsoft</td>\n",
       "      <td>Tech</td>\n",
       "      <td>3.114 trillion</td>\n",
       "      <td>USD</td>\n",
       "    </tr>\n",
       "    <tr>\n",
       "      <th>2</th>\n",
       "      <td>Bain &amp; Company</td>\n",
       "      <td>Consulting</td>\n",
       "      <td>8.5 billion</td>\n",
       "      <td>USD</td>\n",
       "    </tr>\n",
       "    <tr>\n",
       "      <th>3</th>\n",
       "      <td>JPMorgan Chase Bank</td>\n",
       "      <td>Investment Bank</td>\n",
       "      <td>705.14 billion</td>\n",
       "      <td>USD</td>\n",
       "    </tr>\n",
       "    <tr>\n",
       "      <th>4</th>\n",
       "      <td>Nvidia</td>\n",
       "      <td>Tech</td>\n",
       "      <td>3.476 trillion</td>\n",
       "      <td>USD</td>\n",
       "    </tr>\n",
       "    <tr>\n",
       "      <th>5</th>\n",
       "      <td>Monzo Bank</td>\n",
       "      <td>Digital Bank</td>\n",
       "      <td>4 billion</td>\n",
       "      <td>GBP</td>\n",
       "    </tr>\n",
       "    <tr>\n",
       "      <th>6</th>\n",
       "      <td>Coinbase</td>\n",
       "      <td>Cryptocurrency Exchange</td>\n",
       "      <td>207 billion</td>\n",
       "      <td>USD</td>\n",
       "    </tr>\n",
       "  </tbody>\n",
       "</table>\n",
       "</div>"
      ],
      "text/plain": [
       "               Company                     Type         Revenue Currency\n",
       "0                  BCG               Consulting    11.7 billion      USD\n",
       "1            Microsoft                     Tech  3.114 trillion      USD\n",
       "2       Bain & Company               Consulting     8.5 billion      USD\n",
       "3  JPMorgan Chase Bank          Investment Bank  705.14 billion      USD\n",
       "4               Nvidia                     Tech  3.476 trillion      USD\n",
       "5           Monzo Bank             Digital Bank       4 billion      GBP\n",
       "6             Coinbase  Cryptocurrency Exchange     207 billion      USD"
      ]
     },
     "execution_count": 14,
     "metadata": {},
     "output_type": "execute_result"
    }
   ],
   "source": [
    "import numpy as np\n",
    "\n",
    "# 2) Store data in NumPy array (you can convert list of list in other words, 2D list to NumPy array)\n",
    "numpy_data = np.array([\n",
    "    ['BCG', 'Consulting', '11.7 billion', 'USD'],\n",
    "    ['Microsoft', 'Tech', '3.114 trillion', 'USD'],\n",
    "    ['Bain & Company', 'Consulting', '8.5 billion', 'USD'],\n",
    "    ['JPMorgan Chase Bank', 'Investment Bank', '705.14 billion', 'USD'],\n",
    "    ['Nvidia', 'Tech', '3.476 trillion', 'USD'],\n",
    "    ['Monzo Bank', 'Digital Bank', '4 billion', 'GBP'],\n",
    "    ['Coinbase', 'Cryptocurrency Exchange', '207 billion', 'USD']\n",
    "])\n",
    "\n",
    "# 3) NumPy array to Pandas DataFrame\n",
    "df4 = pd.DataFrame(data=numpy_data, columns=[\"Company\", \"Type\", \"Revenue\", \"Currency\"])\n",
    "\n",
    "# 4) Display the DataFrame\n",
    "df4"
   ]
  },
  {
   "cell_type": "markdown",
   "metadata": {},
   "source": [
    "##### 2.6 Index of a `DataFrame` to a `list`"
   ]
  },
  {
   "cell_type": "code",
   "execution_count": null,
   "metadata": {},
   "outputs": [
    {
     "data": {
      "text/plain": [
       "[0, 1, 2, 3, 4, 5, 6]"
      ]
     },
     "execution_count": 15,
     "metadata": {},
     "output_type": "execute_result"
    }
   ],
   "source": [
    "list(df1.index)"
   ]
  },
  {
   "cell_type": "markdown",
   "metadata": {},
   "source": [
    "##### 2.7 Column names od a `DataFrame` to a `list`"
   ]
  },
  {
   "cell_type": "code",
   "execution_count": null,
   "metadata": {},
   "outputs": [
    {
     "data": {
      "text/plain": [
       "['Company', 'Type', 'Revenue', 'Currency']"
      ]
     },
     "execution_count": 16,
     "metadata": {},
     "output_type": "execute_result"
    }
   ],
   "source": [
    "list(df1.columns)"
   ]
  },
  {
   "cell_type": "markdown",
   "metadata": {},
   "source": [
    "##### 2.8 Set New Index: Set one of column of DataFrame as Index"
   ]
  },
  {
   "cell_type": "code",
   "execution_count": null,
   "metadata": {},
   "outputs": [
    {
     "data": {
      "text/html": [
       "<div>\n",
       "<style scoped>\n",
       "    .dataframe tbody tr th:only-of-type {\n",
       "        vertical-align: middle;\n",
       "    }\n",
       "\n",
       "    .dataframe tbody tr th {\n",
       "        vertical-align: top;\n",
       "    }\n",
       "\n",
       "    .dataframe thead th {\n",
       "        text-align: right;\n",
       "    }\n",
       "</style>\n",
       "<table border=\"1\" class=\"dataframe\">\n",
       "  <thead>\n",
       "    <tr style=\"text-align: right;\">\n",
       "      <th></th>\n",
       "      <th>Type</th>\n",
       "      <th>Revenue</th>\n",
       "      <th>Currency</th>\n",
       "    </tr>\n",
       "    <tr>\n",
       "      <th>Company</th>\n",
       "      <th></th>\n",
       "      <th></th>\n",
       "      <th></th>\n",
       "    </tr>\n",
       "  </thead>\n",
       "  <tbody>\n",
       "    <tr>\n",
       "      <th>BCG</th>\n",
       "      <td>Consulting</td>\n",
       "      <td>11.7 billion</td>\n",
       "      <td>USD</td>\n",
       "    </tr>\n",
       "    <tr>\n",
       "      <th>Microsoft</th>\n",
       "      <td>Tech</td>\n",
       "      <td>3.114 trillion</td>\n",
       "      <td>USD</td>\n",
       "    </tr>\n",
       "    <tr>\n",
       "      <th>Bain &amp; Company</th>\n",
       "      <td>Consulting</td>\n",
       "      <td>8.5 billion</td>\n",
       "      <td>USD</td>\n",
       "    </tr>\n",
       "    <tr>\n",
       "      <th>JPMorgan Chase Bank</th>\n",
       "      <td>Investment Bank</td>\n",
       "      <td>705.14 billion</td>\n",
       "      <td>USD</td>\n",
       "    </tr>\n",
       "    <tr>\n",
       "      <th>Nvidia</th>\n",
       "      <td>Tech</td>\n",
       "      <td>3.476 trillion</td>\n",
       "      <td>USD</td>\n",
       "    </tr>\n",
       "    <tr>\n",
       "      <th>Monzo Bank</th>\n",
       "      <td>Digital Bank</td>\n",
       "      <td>4 billion</td>\n",
       "      <td>GBP</td>\n",
       "    </tr>\n",
       "    <tr>\n",
       "      <th>Coinbase</th>\n",
       "      <td>Cryptocurrency Exchange</td>\n",
       "      <td>207 billion</td>\n",
       "      <td>USD</td>\n",
       "    </tr>\n",
       "  </tbody>\n",
       "</table>\n",
       "</div>"
      ],
      "text/plain": [
       "                                        Type         Revenue Currency\n",
       "Company                                                              \n",
       "BCG                               Consulting    11.7 billion      USD\n",
       "Microsoft                               Tech  3.114 trillion      USD\n",
       "Bain & Company                    Consulting     8.5 billion      USD\n",
       "JPMorgan Chase Bank          Investment Bank  705.14 billion      USD\n",
       "Nvidia                                  Tech  3.476 trillion      USD\n",
       "Monzo Bank                      Digital Bank       4 billion      GBP\n",
       "Coinbase             Cryptocurrency Exchange     207 billion      USD"
      ]
     },
     "execution_count": 18,
     "metadata": {},
     "output_type": "execute_result"
    }
   ],
   "source": [
    "df1 = df1.set_index('Company')\n",
    "df1"
   ]
  },
  {
   "cell_type": "markdown",
   "metadata": {},
   "source": [
    "##### 2.9 Reset index of DataFrame"
   ]
  },
  {
   "cell_type": "code",
   "execution_count": null,
   "metadata": {},
   "outputs": [
    {
     "data": {
      "text/html": [
       "<div>\n",
       "<style scoped>\n",
       "    .dataframe tbody tr th:only-of-type {\n",
       "        vertical-align: middle;\n",
       "    }\n",
       "\n",
       "    .dataframe tbody tr th {\n",
       "        vertical-align: top;\n",
       "    }\n",
       "\n",
       "    .dataframe thead th {\n",
       "        text-align: right;\n",
       "    }\n",
       "</style>\n",
       "<table border=\"1\" class=\"dataframe\">\n",
       "  <thead>\n",
       "    <tr style=\"text-align: right;\">\n",
       "      <th></th>\n",
       "      <th>Company</th>\n",
       "      <th>Type</th>\n",
       "      <th>Revenue</th>\n",
       "      <th>Currency</th>\n",
       "    </tr>\n",
       "  </thead>\n",
       "  <tbody>\n",
       "    <tr>\n",
       "      <th>0</th>\n",
       "      <td>BCG</td>\n",
       "      <td>Consulting</td>\n",
       "      <td>11.7 billion</td>\n",
       "      <td>USD</td>\n",
       "    </tr>\n",
       "    <tr>\n",
       "      <th>1</th>\n",
       "      <td>Microsoft</td>\n",
       "      <td>Tech</td>\n",
       "      <td>3.114 trillion</td>\n",
       "      <td>USD</td>\n",
       "    </tr>\n",
       "    <tr>\n",
       "      <th>2</th>\n",
       "      <td>Bain &amp; Company</td>\n",
       "      <td>Consulting</td>\n",
       "      <td>8.5 billion</td>\n",
       "      <td>USD</td>\n",
       "    </tr>\n",
       "    <tr>\n",
       "      <th>3</th>\n",
       "      <td>JPMorgan Chase Bank</td>\n",
       "      <td>Investment Bank</td>\n",
       "      <td>705.14 billion</td>\n",
       "      <td>USD</td>\n",
       "    </tr>\n",
       "    <tr>\n",
       "      <th>4</th>\n",
       "      <td>Nvidia</td>\n",
       "      <td>Tech</td>\n",
       "      <td>3.476 trillion</td>\n",
       "      <td>USD</td>\n",
       "    </tr>\n",
       "    <tr>\n",
       "      <th>5</th>\n",
       "      <td>Monzo Bank</td>\n",
       "      <td>Digital Bank</td>\n",
       "      <td>4 billion</td>\n",
       "      <td>GBP</td>\n",
       "    </tr>\n",
       "    <tr>\n",
       "      <th>6</th>\n",
       "      <td>Coinbase</td>\n",
       "      <td>Cryptocurrency Exchange</td>\n",
       "      <td>207 billion</td>\n",
       "      <td>USD</td>\n",
       "    </tr>\n",
       "  </tbody>\n",
       "</table>\n",
       "</div>"
      ],
      "text/plain": [
       "               Company                     Type         Revenue Currency\n",
       "0                  BCG               Consulting    11.7 billion      USD\n",
       "1            Microsoft                     Tech  3.114 trillion      USD\n",
       "2       Bain & Company               Consulting     8.5 billion      USD\n",
       "3  JPMorgan Chase Bank          Investment Bank  705.14 billion      USD\n",
       "4               Nvidia                     Tech  3.476 trillion      USD\n",
       "5           Monzo Bank             Digital Bank       4 billion      GBP\n",
       "6             Coinbase  Cryptocurrency Exchange     207 billion      USD"
      ]
     },
     "execution_count": 19,
     "metadata": {},
     "output_type": "execute_result"
    }
   ],
   "source": [
    "df1.reset_index(inplace=True)\n",
    "df1"
   ]
  },
  {
   "cell_type": "markdown",
   "metadata": {},
   "source": [
    "##### 2.10 Get the first n rows  of DataFrame\n",
    "`DataFrame.head(n=3)`\n",
    "\n",
    "n = 5 is default value. Following statment will return first five rows. DataFrame.head()"
   ]
  },
  {
   "cell_type": "code",
   "execution_count": null,
   "metadata": {},
   "outputs": [
    {
     "data": {
      "text/html": [
       "<div>\n",
       "<style scoped>\n",
       "    .dataframe tbody tr th:only-of-type {\n",
       "        vertical-align: middle;\n",
       "    }\n",
       "\n",
       "    .dataframe tbody tr th {\n",
       "        vertical-align: top;\n",
       "    }\n",
       "\n",
       "    .dataframe thead th {\n",
       "        text-align: right;\n",
       "    }\n",
       "</style>\n",
       "<table border=\"1\" class=\"dataframe\">\n",
       "  <thead>\n",
       "    <tr style=\"text-align: right;\">\n",
       "      <th></th>\n",
       "      <th>Company</th>\n",
       "      <th>Type</th>\n",
       "      <th>Revenue</th>\n",
       "      <th>Currency</th>\n",
       "    </tr>\n",
       "  </thead>\n",
       "  <tbody>\n",
       "    <tr>\n",
       "      <th>0</th>\n",
       "      <td>BCG</td>\n",
       "      <td>Consulting</td>\n",
       "      <td>11.7 billion</td>\n",
       "      <td>USD</td>\n",
       "    </tr>\n",
       "    <tr>\n",
       "      <th>1</th>\n",
       "      <td>Microsoft</td>\n",
       "      <td>Tech</td>\n",
       "      <td>3.114 trillion</td>\n",
       "      <td>USD</td>\n",
       "    </tr>\n",
       "    <tr>\n",
       "      <th>2</th>\n",
       "      <td>Bain &amp; Company</td>\n",
       "      <td>Consulting</td>\n",
       "      <td>8.5 billion</td>\n",
       "      <td>USD</td>\n",
       "    </tr>\n",
       "  </tbody>\n",
       "</table>\n",
       "</div>"
      ],
      "text/plain": [
       "          Company        Type         Revenue Currency\n",
       "0             BCG  Consulting    11.7 billion      USD\n",
       "1       Microsoft        Tech  3.114 trillion      USD\n",
       "2  Bain & Company  Consulting     8.5 billion      USD"
      ]
     },
     "execution_count": 20,
     "metadata": {},
     "output_type": "execute_result"
    }
   ],
   "source": [
    "df1.head(3)"
   ]
  },
  {
   "cell_type": "markdown",
   "metadata": {},
   "source": [
    "##### 2.11 Get the last n rows of DataFrame\n",
    "`DataFrame.tail(n=2)`\n",
    "\n",
    "n = 5 is default value. Following statment will return last five rows."
   ]
  },
  {
   "cell_type": "code",
   "execution_count": null,
   "metadata": {},
   "outputs": [
    {
     "data": {
      "text/html": [
       "<div>\n",
       "<style scoped>\n",
       "    .dataframe tbody tr th:only-of-type {\n",
       "        vertical-align: middle;\n",
       "    }\n",
       "\n",
       "    .dataframe tbody tr th {\n",
       "        vertical-align: top;\n",
       "    }\n",
       "\n",
       "    .dataframe thead th {\n",
       "        text-align: right;\n",
       "    }\n",
       "</style>\n",
       "<table border=\"1\" class=\"dataframe\">\n",
       "  <thead>\n",
       "    <tr style=\"text-align: right;\">\n",
       "      <th></th>\n",
       "      <th>Company</th>\n",
       "      <th>Type</th>\n",
       "      <th>Revenue</th>\n",
       "      <th>Currency</th>\n",
       "    </tr>\n",
       "  </thead>\n",
       "  <tbody>\n",
       "    <tr>\n",
       "      <th>5</th>\n",
       "      <td>Monzo Bank</td>\n",
       "      <td>Digital Bank</td>\n",
       "      <td>4 billion</td>\n",
       "      <td>GBP</td>\n",
       "    </tr>\n",
       "    <tr>\n",
       "      <th>6</th>\n",
       "      <td>Coinbase</td>\n",
       "      <td>Cryptocurrency Exchange</td>\n",
       "      <td>207 billion</td>\n",
       "      <td>USD</td>\n",
       "    </tr>\n",
       "  </tbody>\n",
       "</table>\n",
       "</div>"
      ],
      "text/plain": [
       "      Company                     Type      Revenue Currency\n",
       "5  Monzo Bank             Digital Bank    4 billion      GBP\n",
       "6    Coinbase  Cryptocurrency Exchange  207 billion      USD"
      ]
     },
     "execution_count": 21,
     "metadata": {},
     "output_type": "execute_result"
    }
   ],
   "source": [
    "df1.tail(2)"
   ]
  },
  {
   "cell_type": "markdown",
   "metadata": {},
   "source": [
    "#### 3. Import Data into Python\n",
    "\n",
    "* .csv: Comma-separated files (text-based)\n",
    "* .xlsx: Excel file (spread sheet)\n",
    "* .json: JavaScript object notation file (text-based)\n",
    "* url: Read data from a webpage\n",
    "\n",
    "Use Pandas library to import data.\n",
    "\n",
    "##### 3.1 Import Pandas library and Set Directory or Folder path where data files are saved in your computer"
   ]
  },
  {
   "cell_type": "code",
   "execution_count": 17,
   "metadata": {},
   "outputs": [
    {
     "name": "stdout",
     "output_type": "stream",
     "text": [
      "hello\n"
     ]
    }
   ],
   "source": [
    "print(\"hello\")"
   ]
  }
 ],
 "metadata": {
  "kernelspec": {
   "display_name": "venv",
   "language": "python",
   "name": "python3"
  },
  "language_info": {
   "codemirror_mode": {
    "name": "ipython",
    "version": 3
   },
   "file_extension": ".py",
   "mimetype": "text/x-python",
   "name": "python",
   "nbconvert_exporter": "python",
   "pygments_lexer": "ipython3",
   "version": "3.12.3"
  }
 },
 "nbformat": 4,
 "nbformat_minor": 2
}
