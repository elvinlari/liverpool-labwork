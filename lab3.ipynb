{
 "cells": [
  {
   "cell_type": "markdown",
   "metadata": {},
   "source": [
    "# Lab Session: Week 3 - Python Basics: List, Tuple, and Range\n",
    "## Lists"
   ]
  },
  {
   "cell_type": "code",
   "execution_count": 7,
   "metadata": {},
   "outputs": [
    {
     "name": "stdout",
     "output_type": "stream",
     "text": [
      "['strings', 'in', 'a', 'list']\n",
      "[0, 1, 2, 3, 4, 5, 6, 7, 8, 9]\n"
     ]
    }
   ],
   "source": [
    "# Numbers in a list\n",
    "list_a = [1,2,3,4]\n",
    "# A list of strings\n",
    "list_b = ['strings', 'in', 'a', 'list']\n",
    "# A list of lists, each sublist with numbers\n",
    "list_c = [[1,2,3],[4,5,6],[7,8,9]]\n",
    "# An empty list to use later\n",
    "list_d = []\n",
    "# A range converted in a list (this will be explained more at a later date)\n",
    "list_e = list(range(10))\n",
    "print(list_b)\n",
    "print(list_e)"
   ]
  },
  {
   "cell_type": "markdown",
   "metadata": {},
   "source": [
    "Lists have the useful property that they are mutable, so we can add items, remove items freely. Note that this can also be a problem as you can accidentally change a list - such as modifying a list during a for loop.\n",
    "\n",
    "Using the variables/lists above, what output would you expect from the statements below? If you're not sure, try to guess, then try it out and see if you were right. As these are single line statements, it may be easier to do this in the console. As these are simple statements, we expect you to take a bit of time to think and then type them in - therefore the whole list below should only take 5-10 minutes."
   ]
  },
  {
   "cell_type": "code",
   "execution_count": 17,
   "metadata": {},
   "outputs": [
    {
     "name": "stdout",
     "output_type": "stream",
     "text": [
      "3\n",
      "3\n"
     ]
    }
   ],
   "source": [
    "# Adding items to a list\n",
    "list_a.append(5)\n",
    "list_a.insert(0,0)\n",
    "list_a += [6]\n",
    "# Removing items\n",
    "# list_b.remove('in')\n",
    "# del(list_b[0])\n",
    "# Length of a list\n",
    "print(len(list_c))\n",
    "# Length of a sublist\n",
    "print(len(list_c[0]))\n",
    "# Finding where something is in a list\n",
    "list_a.index(1)\n",
    "# list_c.index(1) # Careful!\n",
    "# Moving items around\n",
    "list_a.sort()\n",
    "list_a.sort(reverse=True)\n",
    "list_a.reverse()\n",
    "# Append vs extend\n",
    "list_d.append(1) # Append a single number\n",
    "list_d.append([7,2]) # Append using a list of 2 numbers\n",
    "list_d.extend([3,5]) # Extend using a list of 2 numbers\n",
    "# Slicing\n",
    "list_e[:]\n",
    "list_e[:5]\n",
    "list_e[5:]\n",
    "list_e[-1]\n",
    "# Modifying items in a list\n",
    "list_e[:2] *= 2 # This is why we need to be careful multiplying lists/other objects\n",
    "list_e[2:] = list(range(2,12)) # Replace items in a list"
   ]
  },
  {
   "cell_type": "markdown",
   "metadata": {},
   "source": [
    "## Exercise 1: Concatenate lists\n",
    "Concatenate the following lists by using three different methods:\n",
    "* `+ operator\n",
    "* sum() function\n",
    "* itertools module\n",
    "\n",
    "lista = [23,689,56,89,143,897]\n",
    "\n",
    "listb = [56.8,89,898,45,897,569]\n",
    "\n",
    "listc = [57,1,2,3,5,2,11]"
   ]
  },
  {
   "cell_type": "code",
   "execution_count": 20,
   "metadata": {},
   "outputs": [
    {
     "name": "stdout",
     "output_type": "stream",
     "text": [
      "[23, 689, 56, 89, 143, 897, 56.8, 89, 898, 45, 897, 569, 57, 1, 2, 3, 5, 2, 11]\n",
      "[23, 689, 56, 89, 143, 897, 56.8, 89, 898, 45, 897, 569, 57, 1, 2, 3, 5, 2, 11]\n",
      "[23, 689, 56, 89, 143, 897, 56.8, 89, 898, 45, 897, 569, 57, 1, 2, 3, 5, 2, 11]\n"
     ]
    }
   ],
   "source": [
    "lista = [23,689,56,89,143,897]\n",
    "listb = [56.8,89,898,45,897,569]\n",
    "listc = [57,1,2,3,5,2,11]\n",
    "\n",
    "fin_plus = lista + listb + listc \n",
    "print(fin_plus)\n",
    "fin_sum = sum([lista,listb,listc], [])\n",
    "print(fin_sum)\\\n",
    "\n",
    "import itertools\n",
    "fin_chain = itertools.chain(lista,listb,listc)\n",
    "print(list(fin_chain))"
   ]
  },
  {
   "cell_type": "markdown",
   "metadata": {},
   "source": [
    "## Exercise 2: Flatten a nested list of integers and calculate statistical measures\n",
    "Following is a nested list a. It can also be called a 2-Dimensional list or a list of lists.\n",
    "\n",
    "a = [[4, 8, 6], [3, 2, 8], [2, 3, 3, 8]]\n",
    "\n",
    "* Step1: Flatten the nested list. In other words, transform the 2-Dimensional list into a 1-Dimensional list.\n",
    "Hint: use sum function for concatenation sum(a, []) to flatten the nested list\n",
    "* Step 2: Calculate maximum, minimum, and mean.\n",
    "* Step 3: Sort the flattened nested list.\n"
   ]
  },
  {
   "cell_type": "code",
   "execution_count": 23,
   "metadata": {},
   "outputs": [
    {
     "name": "stdout",
     "output_type": "stream",
     "text": [
      "[4, 8, 6, 3, 2, 8, 2, 3, 3, 8]\n",
      "max: 8\n",
      "min: 2\n",
      "mean: 4.7\n"
     ]
    }
   ],
   "source": [
    "a = [[4, 8, 6], [3, 2, 8], [2, 3, 3, 8]]\n",
    "flat_list = sum(a, [])\n",
    "print(flat_list)\n",
    "# maximum\n",
    "mx = max(flat_list)\n",
    "print('max:', mx)\n",
    "# minimum\n",
    "mn = min(flat_list)\n",
    "print('min:', mn)\n",
    "# mean \n",
    "sm = sum(flat_list)/len(flat_list)\n",
    "print('mean:', sm)  "
   ]
  },
  {
   "cell_type": "markdown",
   "metadata": {},
   "source": [
    "### Tuple\n",
    "A tuple is immutable, whereas a list is mutable. This property makes your code safer if a programmer wants to protect the data from accidental changes.\n",
    "\n",
    "* Elements can't be added in a tuple. Tuples have no append or extend method.\n",
    "* Elements can't be removed from a tuple. Tuples have no remove or pop method.\n",
    "* Elements can be accessed elements in a tuple, since this doesn’t change the tuple.\n",
    "* The existence of an element can be checked by utilizing in operator.\n",
    "\n",
    "Try following the example from the lecturer slides. This example demonstrates that a tuple can be modified when it is transformed into a list."
   ]
  },
  {
   "cell_type": "code",
   "execution_count": 24,
   "metadata": {},
   "outputs": [
    {
     "name": "stdout",
     "output_type": "stream",
     "text": [
      "['Income', 'cash flow', 'tax', 8000.458]\n",
      "['monthly income', 'cash flow', 'tax', 9756.1]\n",
      "('monthly income', 'cash flow', 'tax', 9756.1, 'interest rate1', 'interest rate2', 23.78, 'code')\n"
     ]
    }
   ],
   "source": [
    "####Change Tuple\n",
    "a = ('Income', 'cash flow', 'currency', 8000.458)\n",
    "\n",
    "#convert tuple to list\n",
    "a_list = list(a) \n",
    "\n",
    "#assign new value to a desired index in the list\n",
    "a_list[2] = \"tax\" #new value at index [2]\n",
    "print(a_list)\n",
    "\n",
    "#assign values in multiple index in the line by a single line of code\n",
    "a_list[0],a_list[3] = 'monthly income',9756.10 #new value at index [0] and [3]\n",
    "print(a_list)\n",
    "\n",
    "#add single item by append()\n",
    "a_list.append('interest rate1')\n",
    "\n",
    "#add multiple items by extend([])\n",
    "a_list.extend(['interest rate2', 23.78,'code'])\n",
    "\n",
    "#convert list back to tuple\n",
    "a = tuple(a_list) \n",
    "print(a)"
   ]
  },
  {
   "cell_type": "markdown",
   "metadata": {},
   "source": [
    "## Exercise 3: Access elements in tuple\n",
    "Access elements in the following tuples to calculate total net earnings and cash flow for the past three months. Each tuple represents a month.\n",
    "\n",
    "Use index operator [] to access the tuple. Perform addition + operation to calculate total net earnings and cash flow.\n",
    "\n",
    "Net earning and cash flow is in GBP (£).\n",
    "\n",
    "`month1 = (('net earning', 125633.11),('cash flow', 7406.23))`\n",
    "\n",
    "`month2 = (('net earning', 123711.12),('cash flow', 8000.458))`\n",
    "\n",
    "`month3 = (('net earning', 32487.23),('cash flow', 5000.458))`"
   ]
  },
  {
   "cell_type": "code",
   "execution_count": 26,
   "metadata": {},
   "outputs": [
    {
     "name": "stdout",
     "output_type": "stream",
     "text": [
      "Total net earning: 281831.45999999996\n",
      "Total cash flow: 20407.145999999997\n"
     ]
    }
   ],
   "source": [
    "month1 = (('net earning', 125633.11),('cash flow', 7406.23))\n",
    "month2 = (('net earning', 123711.12),('cash flow', 8000.458))\n",
    "month3 = (('net earning', 32487.23),('cash flow', 5000.458))\n",
    "\n",
    "# accessing with index\n",
    "tot_net_earning = month1[0][1] + month2[0][1] + month3[0][1]\n",
    "print('Total net earning:', tot_net_earning)\n",
    "\n",
    "tot_cash_flow = month1[1][1] + month2[1][1] + month3[1][1]\n",
    "print('Total cash flow: ', tot_cash_flow)\n",
    "\n"
   ]
  },
  {
   "cell_type": "markdown",
   "metadata": {},
   "source": [
    "### range\n",
    "Range returns an immutable sequence of integer numbers.\n",
    "\n",
    "\n"
   ]
  },
  {
   "cell_type": "code",
   "execution_count": 32,
   "metadata": {},
   "outputs": [
    {
     "name": "stdout",
     "output_type": "stream",
     "text": [
      "5 6 7 8 9 10\n",
      "[5, 6, 7, 8, 9, 10]\n",
      "(5, 6, 7, 8, 9, 10)\n",
      "[10, 9, 8, 7, 6, 5]\n",
      "[1, 3, 5, 7, 9, 11, 13, 15, 17, 19]\n"
     ]
    }
   ],
   "source": [
    "#generates a sequence of numbers from 5 to 10\n",
    "range_a = range(5, 11)\n",
    "print(*range_a) # * \"unpacks\" an iterable\n",
    "\n",
    "#transform range() to list() to print the results\n",
    "list_a = list(range_a) \n",
    "print(list_a)\n",
    "\n",
    "#transform range() to tuple() to print the results\n",
    "tuple_a = tuple(range_a)\n",
    "print(tuple_a)\n",
    "\n",
    "#generates a sequence of numbers from 5 to 10 in reverse order\n",
    "range_b = reversed(range(5, 11))\n",
    "list_b = list(range_b) \n",
    "print(list_b)\n",
    "\n",
    "#generates a sequence of numbers from 1 to 20 with an increment of 2\n",
    "#using range(start, stop, step): postive integer\n",
    "list_c = list(range(1, 20, 2))\n",
    "print(list_c)"
   ]
  },
  {
   "cell_type": "markdown",
   "metadata": {},
   "source": [
    "## Exercise 4:\n",
    "1. generates a list `list_a` of sequence of numbers from 1 to 100 with an increment of 10\n",
    "2. generates a list `list_b` of sequence of numbers from 300 to 500 with an increment of 30\n",
    "3. Declare a empty list `listoflists`\n",
    "4. Use either `append()` or `extend()` functions to add lists `list_a` and `list_b` in `listoflists` to make 2-Dimension nested list.\n",
    "\n",
    "Desired result:\n",
    "\n",
    "`[[1, 11, 21, 31, 41, 51, 61, 71, 81, 91], [300, 330, 360, 390, 420, 450, 480]]`"
   ]
  },
  {
   "cell_type": "code",
   "execution_count": 49,
   "metadata": {},
   "outputs": [
    {
     "name": "stdout",
     "output_type": "stream",
     "text": [
      "1 11 21 31 41 51 61 71 81 91\n",
      "300 330 360 390 420 450 480\n",
      "[]\n",
      "[[1, 11, 21, 31, 41, 51, 61, 71, 81, 91]]\n",
      "With append:  [[1, 11, 21, 31, 41, 51, 61, 71, 81, 91], [300, 330, 360, 390, 420, 450, 480]]\n",
      "With extend:  [[1, 11, 21, 31, 41, 51, 61, 71, 81, 91], [300, 330, 360, 390, 420, 450, 480]]\n"
     ]
    }
   ],
   "source": [
    "list_a = range(1,100,10)\n",
    "print(*list_a)\n",
    "list_b = range(300,500,30)\n",
    "print(*list_b)\n",
    "listoflists = []\n",
    "print(listoflists)\n",
    "\n",
    "# using append\n",
    "list_ap = list(list_a)\n",
    "listoflists.append(list_ap)\n",
    "print(listoflists)\n",
    "list_bp = list(list_b)\n",
    "listoflists.append(list_bp)\n",
    "print(\"With append: \", listoflists)\n",
    "\n",
    "# using extend\n",
    "listoflists1 = []\n",
    "list_ae = list(list_a)\n",
    "list_be = list(list_b)\n",
    "listoflists1.extend([list_ae,list_be])\n",
    "print(\"With extend: \", listoflists1)"
   ]
  },
  {
   "cell_type": "markdown",
   "metadata": {},
   "source": [
    "## Exercise 5\n",
    "Last week we use python to calculate present value (PV) of annuity. Use same code to do following:\n",
    "\n",
    "* Create a empty list `annuity = []`.\n",
    "* Calculate present value (PV) of annuity for three different people and round-off the values to three decimal points.\n",
    "* Insert the present value (PV) of annuity to the empty list by `extend([])` function.\n",
    "* Find maximum and minimum value in list `annuity`\n",
    "\n",
    "The present value (PV) of an annuity due takes into account the fact that payments are made at the beginning rather than the end of each period.\n",
    "\n",
    "**Person 1:** Suppose person 1 pay `£1,000` a month in rent. By calculating present value (PV) of an annuity due we want find what the next five months would cost him/her, in terms of present value, assuming that the money in an account earning `5%` interest.\n",
    "\n",
    "**Person 2:** Suppose person 1 pay `£2,300` a month in rent. By calculating present value (PV) of an annuity due we want find what the next five months would cost him/her, in terms of present value, assuming that the money in an account earning `5%` interest.\n",
    "\n",
    "**Person 3:** Suppose person 1 pay `£750` a month in rent. By calculating present value (PV) of an annuity due we want find what the next five months would cost him/her, in terms of present value, assuming that the money in an account earning `5%` interest.\n",
    "\n",
    "Use the following formula to calculate this amount.\n",
    "\n"
   ]
  },
  {
   "cell_type": "code",
   "execution_count": 60,
   "metadata": {},
   "outputs": [
    {
     "name": "stdout",
     "output_type": "stream",
     "text": [
      "Person 1 PV:  4545.951\n",
      "Person 2 PV:  10455.686\n",
      "Person 3 PV:  3409.463\n",
      "annuity:  [4545.951, 10455.686, 3409.463]\n",
      "maximum value:  10455.686\n",
      "minimum value:  3409.463\n",
      "Present value of Annuity for person1, person2, person3 is:  4545.951 , 10455.686 , and 3409.463 ,respectively.\n",
      "PV values using loops:  [4545.951, 10455.686, 3409.463]\n"
     ]
    }
   ],
   "source": [
    "C = 1000\n",
    "i = 0.05\n",
    "n = 5\n",
    "PV = C * ((1 - (1 + i) ** -n)/i) * (1 + i)\n",
    "\n",
    "PV1 = round(PV,3)\n",
    "print(\"Person 1 PV: \", PV1)\n",
    "\n",
    "C = 2300\n",
    "i = 0.05\n",
    "n = 5\n",
    "PV = C * ((1 - (1 + i) ** -n)/i) * (1 + i)\n",
    "\n",
    "PV2 = round(PV,3)\n",
    "print(\"Person 2 PV: \", PV2)\n",
    "\n",
    "C = 750\n",
    "i = 0.05\n",
    "n = 5\n",
    "PV = C * ((1 - (1 + i) ** -n)/i) * (1 + i)\n",
    "\n",
    "PV3 = round(PV,3)\n",
    "print(\"Person 3 PV: \", PV3)\n",
    "\n",
    "annuity = []\n",
    "annuity.extend([PV1,PV2,PV3])\n",
    "print(\"annuity: \", annuity)\n",
    "\n",
    "mx = max(annuity)\n",
    "print('maximum value: ', mx)\n",
    "\n",
    "mn = min(annuity)\n",
    "print('minimum value: ', mn)\n",
    "\n",
    "print('Present value of Annuity for person1, person2, person3 is: ',PV1,',',PV2,', and',PV3, ',respectively.')\n",
    "\n",
    "\n",
    "# using a loop\n",
    "c_values = [1000, 2300, 750]\n",
    "i = 0.05\n",
    "n = 5\n",
    "pv_values = []\n",
    "for v in c_values:\n",
    "    pv = v * ((1 - (1 + i) ** -n)/i) * (1 + i)\n",
    "    pv_values.append(round(pv,3))\n",
    "\n",
    "print(\"PV values using loops: \", pv_values)\n"
   ]
  }
 ],
 "metadata": {
  "kernelspec": {
   "display_name": ".venv",
   "language": "python",
   "name": "python3"
  },
  "language_info": {
   "codemirror_mode": {
    "name": "ipython",
    "version": 3
   },
   "file_extension": ".py",
   "mimetype": "text/x-python",
   "name": "python",
   "nbconvert_exporter": "python",
   "pygments_lexer": "ipython3",
   "version": "3.12.3"
  }
 },
 "nbformat": 4,
 "nbformat_minor": 2
}
