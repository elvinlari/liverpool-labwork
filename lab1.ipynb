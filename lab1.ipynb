{
 "cells": [
  {
   "cell_type": "markdown",
   "metadata": {},
   "source": [
    "Exercise 1:"
   ]
  },
  {
   "cell_type": "code",
   "execution_count": 1,
   "metadata": {},
   "outputs": [
    {
     "name": "stdout",
     "output_type": "stream",
     "text": [
      "<class 'str'>\n",
      "<class 'str'>\n",
      "<class 'str'>\n"
     ]
    }
   ],
   "source": [
    "x1 = \"line1: Python was created by Guido van Rossum a Dutch programmer.\"\n",
    "x2 = \"line2: First version of Python 0.9.0 was developed in Centrum Wiskunde & Informatica (CWI) in the Netherlands in 1991.\"\n",
    "x3 = \"line3: Python 3.0, was released on 3 December 2008.\"\n",
    "\n",
    "print(type(x1))\n",
    "print(type(x2))\n",
    "print(type(x3))\n"
   ]
  },
  {
   "cell_type": "markdown",
   "metadata": {},
   "source": []
  },
  {
   "cell_type": "code",
   "execution_count": 2,
   "metadata": {},
   "outputs": [
    {
     "data": {
      "text/plain": [
       "True"
      ]
     },
     "execution_count": 2,
     "metadata": {},
     "output_type": "execute_result"
    }
   ],
   "source": [
    "A = type(x1) == str\n",
    "B = type(x2) == str\n",
    "C = type(x3) == str\n",
    "\n",
    "A == B == C"
   ]
  },
  {
   "cell_type": "code",
   "execution_count": 3,
   "metadata": {},
   "outputs": [
    {
     "name": "stdout",
     "output_type": "stream",
     "text": [
      "line1: Python was created by Guido van Rossum a Dutch programmer.\n",
      "line2: First version of Python 0.9.0 was developed in Centrum Wiskunde & Informatica (CWI) in the Netherlands in 1991.\n",
      "line3: Python 3.0, was released on 3 December 2008.\n"
     ]
    }
   ],
   "source": [
    "print(x1)\n",
    "print(x2)\n",
    "print(x3)"
   ]
  },
  {
   "cell_type": "markdown",
   "metadata": {},
   "source": [
    "Excercise 2 (a): Calculating the Future Value of an Ordinary Annuity"
   ]
  },
  {
   "cell_type": "code",
   "execution_count": 24,
   "metadata": {},
   "outputs": [
    {
     "name": "stdout",
     "output_type": "stream",
     "text": [
      "16284.016906250017\n",
      "16284.0169\n"
     ]
    }
   ],
   "source": [
    "C = 2000\n",
    "n = 7\n",
    "i = 0.05 # % or fraction\n",
    "\n",
    "FV = C * (((1 + i)**n-1)/i)\n",
    "print(FV)\n",
    "print(round(FV, 4))"
   ]
  },
  {
   "cell_type": "markdown",
   "metadata": {},
   "source": [
    "Exercise 2 (b): Calculating the Present Value of an Annuity Due"
   ]
  },
  {
   "cell_type": "code",
   "execution_count": 23,
   "metadata": {},
   "outputs": [
    {
     "name": "stdout",
     "output_type": "stream",
     "text": [
      "4545.950504162364\n",
      "4545.9505\n"
     ]
    }
   ],
   "source": [
    "C = 1000\n",
    "n = 5 \n",
    "i = 0.05\n",
    "\n",
    "PV = C * ((1-(1+i)**-n)/i) * (1+i)\n",
    "print(PV)\n",
    "print(round(PV, 4))"
   ]
  },
  {
   "cell_type": "markdown",
   "metadata": {},
   "source": [
    "Exercise 3: Debug the following piece of code"
   ]
  },
  {
   "cell_type": "code",
   "execution_count": 25,
   "metadata": {},
   "outputs": [
    {
     "name": "stdout",
     "output_type": "stream",
     "text": [
      "Subtracting your value of 1 by  3 will give -2\n",
      "Dividing -2 by 2  will give  -1.0\n",
      "The ceiling of 0.5 is  1\n",
      "Multiplying 2 by 3 will give 6\n",
      "Multiplying 2 by 3 will give 6\n",
      "Multiplying 2.0 by 3 will give 6.0\n"
     ]
    }
   ],
   "source": [
    "# This code is incorrect - you need to fix it so that it provides the desired output!\n",
    "divide_by = 2\n",
    "subtract_by = 3\n",
    "#multiply_by\n",
    "\n",
    "var = 1\n",
    "var1 = var\n",
    "var1 -= subtract_by\n",
    "print(\"Subtracting your value of\", var,\"by \", subtract_by ,\"will give\", var1)\n",
    "\n",
    "var2 = var1 / divide_by\n",
    "print(\"Dividing\", var1, \"by\",divide_by,\" will give \",var2)\n",
    "\n",
    "import math\n",
    "# var2 = input(\"Please provide a real number between 0 and 1: \")\n",
    "var2 = 0.5\n",
    "print(\"The ceiling of\",var2,\"is \",math.ceil(var2))\n",
    "\n",
    "var4 = 2\n",
    "var5 = 3\n",
    "\n",
    "print(\"Multiplying\", var4, \"by\", var5, \"will give\", var4*int(var5))\n",
    "print(\"Multiplying\", var4, \"by\", var5, \"will give\", int(var4)*int(var5))\n",
    "print(\"Multiplying\", float(var4), \"by\", var5, \"will give\", float(var4)*int(var5))"
   ]
  }
 ],
 "metadata": {
  "kernelspec": {
   "display_name": ".venv",
   "language": "python",
   "name": "python3"
  },
  "language_info": {
   "codemirror_mode": {
    "name": "ipython",
    "version": 3
   },
   "file_extension": ".py",
   "mimetype": "text/x-python",
   "name": "python",
   "nbconvert_exporter": "python",
   "pygments_lexer": "ipython3",
   "version": "3.12.3"
  }
 },
 "nbformat": 4,
 "nbformat_minor": 2
}
